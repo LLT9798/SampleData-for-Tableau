{
 "cells": [
  {
   "cell_type": "code",
   "execution_count": 123,
   "metadata": {},
   "outputs": [],
   "source": [
    "import pandas as pd\n",
    "import numpy as np\n",
    "import matplotlib.pyplot as plt\n",
    "%matplotlib inline\n",
    "\n",
    "import random\n",
    "import time\n",
    "from datetime import datetime\n",
    "from numpy.random import choice\n",
    "from faker import Faker"
   ]
  },
  {
   "cell_type": "code",
   "execution_count": 37,
   "metadata": {},
   "outputs": [
    {
     "data": {
      "text/html": [
       "<div>\n",
       "<style scoped>\n",
       "    .dataframe tbody tr th:only-of-type {\n",
       "        vertical-align: middle;\n",
       "    }\n",
       "\n",
       "    .dataframe tbody tr th {\n",
       "        vertical-align: top;\n",
       "    }\n",
       "\n",
       "    .dataframe thead th {\n",
       "        text-align: right;\n",
       "    }\n",
       "</style>\n",
       "<table border=\"1\" class=\"dataframe\">\n",
       "  <thead>\n",
       "    <tr style=\"text-align: right;\">\n",
       "      <th></th>\n",
       "      <th>OrderID</th>\n",
       "      <th>Startdate</th>\n",
       "      <th>Enddate</th>\n",
       "      <th>Priority</th>\n",
       "      <th>Status</th>\n",
       "      <th>ActLaborHrs</th>\n",
       "      <th>Group</th>\n",
       "      <th>SubGroup</th>\n",
       "      <th>Responsedays</th>\n",
       "      <th>Responsehours</th>\n",
       "    </tr>\n",
       "  </thead>\n",
       "  <tbody>\n",
       "  </tbody>\n",
       "</table>\n",
       "</div>"
      ],
      "text/plain": [
       "Empty DataFrame\n",
       "Columns: [OrderID, Startdate, Enddate, Priority, Status, ActLaborHrs, Group, SubGroup, Responsedays, Responsehours]\n",
       "Index: []"
      ]
     },
     "execution_count": 37,
     "metadata": {},
     "output_type": "execute_result"
    }
   ],
   "source": [
    "df = pd.DataFrame(columns=['OrderID','Startdate', 'Enddate',\n",
    "                           'Priority', 'Status', 'ActLaborHrs',\n",
    "                           'Group', 'SubGroup', 'Responsedays', 'Responsehours'])\n",
    "df.head()"
   ]
  },
  {
   "cell_type": "markdown",
   "metadata": {},
   "source": [
    "### Generate Orders by Timestamp"
   ]
  },
  {
   "cell_type": "markdown",
   "metadata": {},
   "source": [
    "#### All generated orders follow business days (Mon-Fri) and hours (8am-6pm)"
   ]
  },
  {
   "cell_type": "code",
   "execution_count": 38,
   "metadata": {},
   "outputs": [],
   "source": [
    "def randomDate(start, end):\n",
    "    '''\n",
    "    input: setup start and end date \n",
    "    output: one random date between the range(start, end) and follows business days/ hours\n",
    "    '''\n",
    "    from datetime import datetime\n",
    "    frmt = '%Y-%m-%d %H:%M:%S'\n",
    "    busday = False \n",
    "    start_time = time.mktime(time.strptime(start, frmt))\n",
    "    end_time = time.mktime(time.strptime(end, frmt))\n",
    "    \n",
    "    while busday == False:\n",
    "        random_time = start_time + random.random() * (end_time - start_time)\n",
    "        dt = datetime.fromtimestamp(time.mktime(time.localtime(random_time)))\n",
    "        busday = businessday(dt)\n",
    "    return dt"
   ]
  },
  {
   "cell_type": "code",
   "execution_count": 62,
   "metadata": {},
   "outputs": [],
   "source": [
    "def businessday(dt):\n",
    "    '''\n",
    "    input: any 'time' data\n",
    "    output: a boolean value shows if the input follow the business days/ hours\n",
    "    '''\n",
    "    if dt.weekday() == 5 or dt.weekday() == 6: #Mon - Fri\n",
    "        return False\n",
    "    else:\n",
    "        if dt.hour <= 8 or dt.hour >= 18: #8am - 6pm\n",
    "            return False\n",
    "        else:\n",
    "            return True"
   ]
  },
  {
   "cell_type": "code",
   "execution_count": 40,
   "metadata": {},
   "outputs": [],
   "source": [
    "def get_start_date(start, end, amount):\n",
    "    '''\n",
    "    This function conclude above two\n",
    "    input: setup start and end date with form(%Y-%m-%d %H:%M:%S) ; how many random date you need\n",
    "    output: a list of random dates between the range(start, end) and follow business days/ hours\n",
    "    '''\n",
    "    start_date_list = []\n",
    "    for i in range(0,amount):\n",
    "        start_date = randomDate(start, end)\n",
    "        start_date_list.append(str(start_date))\n",
    "    return start_date_list"
   ]
  },
  {
   "cell_type": "code",
   "execution_count": 41,
   "metadata": {},
   "outputs": [],
   "source": [
    "def get_end_date(start, duration):\n",
    "    '''\n",
    "    input: one or a list of order start date\n",
    "    output: a list of order end date by random 1 ~ duration\n",
    "    '''\n",
    "    frmt = '%Y-%m-%d %H:%M:%S'\n",
    "    end_date_list = []\n",
    "    \n",
    "    for i in range(0, len(start)):\n",
    "        busday = False\n",
    "        start_time = time.mktime(time.strptime(start[i], frmt))\n",
    "        while busday == False:\n",
    "            random_diff = start_time + random.randrange(1, duration, 6) * 3600 #by hours\n",
    "            dt = datetime.fromtimestamp(time.mktime(time.localtime(random_diff)))\n",
    "            busday = businessday(dt)\n",
    "        end_date_list.append(str(dt))\n",
    "    return end_date_list "
   ]
  },
  {
   "cell_type": "markdown",
   "metadata": {},
   "source": [
    "#### Oder Startdate:"
   ]
  },
  {
   "cell_type": "code",
   "execution_count": 42,
   "metadata": {},
   "outputs": [],
   "source": [
    "random_start = get_start_date('2018-01-01 00:00:00', '2019-12-31 00:00:00', 20000)\n",
    "df['Startdate'] = random_start"
   ]
  },
  {
   "cell_type": "markdown",
   "metadata": {},
   "source": [
    "#### Order EndDate:"
   ]
  },
  {
   "cell_type": "code",
   "execution_count": 43,
   "metadata": {},
   "outputs": [],
   "source": [
    "df['Enddate'] = get_end_date(random_start, 100)"
   ]
  },
  {
   "cell_type": "code",
   "execution_count": 44,
   "metadata": {},
   "outputs": [
    {
     "data": {
      "text/html": [
       "<div>\n",
       "<style scoped>\n",
       "    .dataframe tbody tr th:only-of-type {\n",
       "        vertical-align: middle;\n",
       "    }\n",
       "\n",
       "    .dataframe tbody tr th {\n",
       "        vertical-align: top;\n",
       "    }\n",
       "\n",
       "    .dataframe thead th {\n",
       "        text-align: right;\n",
       "    }\n",
       "</style>\n",
       "<table border=\"1\" class=\"dataframe\">\n",
       "  <thead>\n",
       "    <tr style=\"text-align: right;\">\n",
       "      <th></th>\n",
       "      <th>OrderID</th>\n",
       "      <th>Startdate</th>\n",
       "      <th>Enddate</th>\n",
       "      <th>Priority</th>\n",
       "      <th>Status</th>\n",
       "      <th>ActLaborHrs</th>\n",
       "      <th>Group</th>\n",
       "      <th>SubGroup</th>\n",
       "      <th>Responsedays</th>\n",
       "      <th>Responsehours</th>\n",
       "    </tr>\n",
       "  </thead>\n",
       "  <tbody>\n",
       "    <tr>\n",
       "      <th>0</th>\n",
       "      <td>NaN</td>\n",
       "      <td>2019-04-25 12:49:25</td>\n",
       "      <td>2019-04-29 13:49:25</td>\n",
       "      <td>NaN</td>\n",
       "      <td>NaN</td>\n",
       "      <td>NaN</td>\n",
       "      <td>NaN</td>\n",
       "      <td>NaN</td>\n",
       "      <td>NaN</td>\n",
       "      <td>NaN</td>\n",
       "    </tr>\n",
       "    <tr>\n",
       "      <th>1</th>\n",
       "      <td>NaN</td>\n",
       "      <td>2019-10-04 14:36:17</td>\n",
       "      <td>2019-10-04 15:36:17</td>\n",
       "      <td>NaN</td>\n",
       "      <td>NaN</td>\n",
       "      <td>NaN</td>\n",
       "      <td>NaN</td>\n",
       "      <td>NaN</td>\n",
       "      <td>NaN</td>\n",
       "      <td>NaN</td>\n",
       "    </tr>\n",
       "    <tr>\n",
       "      <th>2</th>\n",
       "      <td>NaN</td>\n",
       "      <td>2019-12-09 16:58:34</td>\n",
       "      <td>2019-12-12 11:58:34</td>\n",
       "      <td>NaN</td>\n",
       "      <td>NaN</td>\n",
       "      <td>NaN</td>\n",
       "      <td>NaN</td>\n",
       "      <td>NaN</td>\n",
       "      <td>NaN</td>\n",
       "      <td>NaN</td>\n",
       "    </tr>\n",
       "    <tr>\n",
       "      <th>3</th>\n",
       "      <td>NaN</td>\n",
       "      <td>2019-12-27 16:24:07</td>\n",
       "      <td>2019-12-31 11:24:07</td>\n",
       "      <td>NaN</td>\n",
       "      <td>NaN</td>\n",
       "      <td>NaN</td>\n",
       "      <td>NaN</td>\n",
       "      <td>NaN</td>\n",
       "      <td>NaN</td>\n",
       "      <td>NaN</td>\n",
       "    </tr>\n",
       "    <tr>\n",
       "      <th>4</th>\n",
       "      <td>NaN</td>\n",
       "      <td>2019-01-08 13:59:11</td>\n",
       "      <td>2019-01-11 14:59:11</td>\n",
       "      <td>NaN</td>\n",
       "      <td>NaN</td>\n",
       "      <td>NaN</td>\n",
       "      <td>NaN</td>\n",
       "      <td>NaN</td>\n",
       "      <td>NaN</td>\n",
       "      <td>NaN</td>\n",
       "    </tr>\n",
       "  </tbody>\n",
       "</table>\n",
       "</div>"
      ],
      "text/plain": [
       "  OrderID            Startdate              Enddate Priority Status  \\\n",
       "0     NaN  2019-04-25 12:49:25  2019-04-29 13:49:25      NaN    NaN   \n",
       "1     NaN  2019-10-04 14:36:17  2019-10-04 15:36:17      NaN    NaN   \n",
       "2     NaN  2019-12-09 16:58:34  2019-12-12 11:58:34      NaN    NaN   \n",
       "3     NaN  2019-12-27 16:24:07  2019-12-31 11:24:07      NaN    NaN   \n",
       "4     NaN  2019-01-08 13:59:11  2019-01-11 14:59:11      NaN    NaN   \n",
       "\n",
       "  ActLaborHrs Group SubGroup Responsedays Responsehours  \n",
       "0         NaN   NaN      NaN          NaN           NaN  \n",
       "1         NaN   NaN      NaN          NaN           NaN  \n",
       "2         NaN   NaN      NaN          NaN           NaN  \n",
       "3         NaN   NaN      NaN          NaN           NaN  \n",
       "4         NaN   NaN      NaN          NaN           NaN  "
      ]
     },
     "execution_count": 44,
     "metadata": {},
     "output_type": "execute_result"
    }
   ],
   "source": [
    "df.head(5)"
   ]
  },
  {
   "cell_type": "code",
   "execution_count": 72,
   "metadata": {},
   "outputs": [
    {
     "data": {
      "text/plain": [
       "19995    2018-02-23 13:32:02\n",
       "19996    2019-06-19 10:27:38\n",
       "19997    2018-08-02 13:27:56\n",
       "19998    2018-12-18 09:51:22\n",
       "19999    2019-03-14 11:02:01\n",
       "Name: Startdate, dtype: object"
      ]
     },
     "execution_count": 72,
     "metadata": {},
     "output_type": "execute_result"
    }
   ],
   "source": [
    "df['Startdate'].tail(5)"
   ]
  },
  {
   "cell_type": "markdown",
   "metadata": {},
   "source": [
    "### Priority"
   ]
  },
  {
   "cell_type": "code",
   "execution_count": 76,
   "metadata": {
    "scrolled": true
   },
   "outputs": [],
   "source": [
    "df['Priority'] = np.random.choice([1, 2, 11]) #df[0]"
   ]
  },
  {
   "cell_type": "code",
   "execution_count": 77,
   "metadata": {},
   "outputs": [
    {
     "data": {
      "text/plain": [
       "2    20000\n",
       "Name: Priority, dtype: int64"
      ]
     },
     "execution_count": 77,
     "metadata": {},
     "output_type": "execute_result"
    }
   ],
   "source": [
    "df['Priority'].value_counts()"
   ]
  },
  {
   "cell_type": "code",
   "execution_count": 93,
   "metadata": {},
   "outputs": [],
   "source": [
    "dfupdate = df[df['Priority'] == 2 ].sample(2973)"
   ]
  },
  {
   "cell_type": "code",
   "execution_count": 94,
   "metadata": {},
   "outputs": [],
   "source": [
    "dfupdate['Priority'] = 11\n",
    "df.update(dfupdate)"
   ]
  },
  {
   "cell_type": "code",
   "execution_count": 95,
   "metadata": {},
   "outputs": [
    {
     "data": {
      "text/plain": [
       "11.0    17838\n",
       "2.0      2162\n",
       "Name: Priority, dtype: int64"
      ]
     },
     "execution_count": 95,
     "metadata": {},
     "output_type": "execute_result"
    }
   ],
   "source": [
    "df['Priority'].value_counts()\n"
   ]
  },
  {
   "cell_type": "markdown",
   "metadata": {},
   "source": [
    "### ActLaborHrs"
   ]
  },
  {
   "cell_type": "code",
   "execution_count": 137,
   "metadata": {},
   "outputs": [],
   "source": [
    "df['ActLaborHrs'] = np.random.choice([ 0, 1, 2, 3])"
   ]
  },
  {
   "cell_type": "code",
   "execution_count": 138,
   "metadata": {},
   "outputs": [],
   "source": [
    "dfupdate=df.sample(12973)\n",
    "dfupdate['ActLaborHrs'] = np.random.uniform(0,10)\n",
    "df.update(dfupdate)"
   ]
  },
  {
   "cell_type": "code",
   "execution_count": 139,
   "metadata": {},
   "outputs": [],
   "source": [
    "dfupdate=df.sample(1000)\n",
    "dfupdate['ActLaborHrs'] = np.random.uniform(10,600)\n",
    "df.update(dfupdate)"
   ]
  },
  {
   "cell_type": "code",
   "execution_count": 140,
   "metadata": {},
   "outputs": [],
   "source": [
    "dfupdate=df.sample(100)\n",
    "dfupdate['ActLaborHrs'] = np.random.uniform(100,4000)\n",
    "df.update(dfupdate)"
   ]
  },
  {
   "cell_type": "code",
   "execution_count": 141,
   "metadata": {},
   "outputs": [],
   "source": [
    "dfupdate=df.sample(3000)\n",
    "dfupdate['ActLaborHrs'] = 0.5\n",
    "df.update(dfupdate)"
   ]
  },
  {
   "cell_type": "code",
   "execution_count": 142,
   "metadata": {
    "scrolled": true
   },
   "outputs": [
    {
     "data": {
      "text/plain": [
       "count    20000.000000\n",
       "mean        21.536267\n",
       "std         89.462689\n",
       "min          0.000000\n",
       "25%          0.000000\n",
       "50%          7.056641\n",
       "75%          7.056641\n",
       "max        968.829141\n",
       "Name: ActLaborHrs, dtype: float64"
      ]
     },
     "execution_count": 142,
     "metadata": {},
     "output_type": "execute_result"
    }
   ],
   "source": [
    "df['ActLaborHrs'].describe()"
   ]
  },
  {
   "cell_type": "code",
   "execution_count": 143,
   "metadata": {},
   "outputs": [
    {
     "data": {
      "text/plain": [
       "0    0.500000\n",
       "1    7.056641\n",
       "2    0.000000\n",
       "3    0.000000\n",
       "4    0.000000\n",
       "Name: ActLaborHrs, dtype: float64"
      ]
     },
     "execution_count": 143,
     "metadata": {},
     "output_type": "execute_result"
    }
   ],
   "source": [
    "df['ActLaborHrs'].head(5)"
   ]
  },
  {
   "cell_type": "markdown",
   "metadata": {},
   "source": [
    "### OrderID"
   ]
  },
  {
   "cell_type": "code",
   "execution_count": 145,
   "metadata": {},
   "outputs": [],
   "source": [
    "dfN = df"
   ]
  },
  {
   "cell_type": "code",
   "execution_count": 146,
   "metadata": {},
   "outputs": [],
   "source": [
    "dfN['OrderID'] = random.sample(range(100000,700000), 20000)"
   ]
  },
  {
   "cell_type": "code",
   "execution_count": 147,
   "metadata": {},
   "outputs": [],
   "source": [
    "import random\n",
    "from random import randint"
   ]
  },
  {
   "cell_type": "code",
   "execution_count": 148,
   "metadata": {},
   "outputs": [
    {
     "data": {
      "text/plain": [
       "20000"
      ]
     },
     "execution_count": 148,
     "metadata": {},
     "output_type": "execute_result"
    }
   ],
   "source": [
    "dfN['OrderID'].count()"
   ]
  },
  {
   "cell_type": "code",
   "execution_count": 149,
   "metadata": {},
   "outputs": [
    {
     "data": {
      "text/plain": [
       "0"
      ]
     },
     "execution_count": 149,
     "metadata": {},
     "output_type": "execute_result"
    }
   ],
   "source": [
    "dfN['OrderID'].duplicated().sum()"
   ]
  },
  {
   "cell_type": "code",
   "execution_count": 150,
   "metadata": {},
   "outputs": [],
   "source": [
    "dfN['OrderID'] = 'WO' + dfN['OrderID'].astype(str)"
   ]
  },
  {
   "cell_type": "code",
   "execution_count": 151,
   "metadata": {},
   "outputs": [
    {
     "data": {
      "text/plain": [
       "0     WO644462\n",
       "1     WO135407\n",
       "2     WO618754\n",
       "3     WO593796\n",
       "4     WO681395\n",
       "5     WO383647\n",
       "6     WO679171\n",
       "7     WO324891\n",
       "8     WO533851\n",
       "9     WO132321\n",
       "10    WO116671\n",
       "11    WO537004\n",
       "12    WO186654\n",
       "13    WO204799\n",
       "14    WO368510\n",
       "15    WO442504\n",
       "16    WO208634\n",
       "17    WO213519\n",
       "18    WO565281\n",
       "19    WO199312\n",
       "Name: OrderID, dtype: object"
      ]
     },
     "execution_count": 151,
     "metadata": {},
     "output_type": "execute_result"
    }
   ],
   "source": [
    "dfN['OrderID'] .head(20)"
   ]
  },
  {
   "cell_type": "code",
   "execution_count": 152,
   "metadata": {},
   "outputs": [
    {
     "data": {
      "text/html": [
       "<div>\n",
       "<style scoped>\n",
       "    .dataframe tbody tr th:only-of-type {\n",
       "        vertical-align: middle;\n",
       "    }\n",
       "\n",
       "    .dataframe tbody tr th {\n",
       "        vertical-align: top;\n",
       "    }\n",
       "\n",
       "    .dataframe thead th {\n",
       "        text-align: right;\n",
       "    }\n",
       "</style>\n",
       "<table border=\"1\" class=\"dataframe\">\n",
       "  <thead>\n",
       "    <tr style=\"text-align: right;\">\n",
       "      <th></th>\n",
       "      <th>OrderID</th>\n",
       "      <th>Startdate</th>\n",
       "      <th>Enddate</th>\n",
       "      <th>Priority</th>\n",
       "      <th>Status</th>\n",
       "      <th>ActLaborHrs</th>\n",
       "      <th>Group</th>\n",
       "      <th>SubGroup</th>\n",
       "      <th>Responsedays</th>\n",
       "      <th>Responsehours</th>\n",
       "      <th></th>\n",
       "    </tr>\n",
       "  </thead>\n",
       "  <tbody>\n",
       "    <tr>\n",
       "      <th>0</th>\n",
       "      <td>WO644462</td>\n",
       "      <td>2019-04-25 12:49:25</td>\n",
       "      <td>2019-04-29 13:49:25</td>\n",
       "      <td>11.0</td>\n",
       "      <td>Complete</td>\n",
       "      <td>0.500000</td>\n",
       "      <td>Engineering</td>\n",
       "      <td>NaN</td>\n",
       "      <td>NaN</td>\n",
       "      <td>NaN</td>\n",
       "      <td>EHS</td>\n",
       "    </tr>\n",
       "    <tr>\n",
       "      <th>1</th>\n",
       "      <td>WO135407</td>\n",
       "      <td>2019-10-04 14:36:17</td>\n",
       "      <td>2019-10-04 15:36:17</td>\n",
       "      <td>11.0</td>\n",
       "      <td>Complete</td>\n",
       "      <td>7.056641</td>\n",
       "      <td>HVAC</td>\n",
       "      <td>NaN</td>\n",
       "      <td>NaN</td>\n",
       "      <td>NaN</td>\n",
       "      <td>EHS</td>\n",
       "    </tr>\n",
       "    <tr>\n",
       "      <th>2</th>\n",
       "      <td>WO618754</td>\n",
       "      <td>2019-12-09 16:58:34</td>\n",
       "      <td>2019-12-12 11:58:34</td>\n",
       "      <td>11.0</td>\n",
       "      <td>Onhold</td>\n",
       "      <td>0.000000</td>\n",
       "      <td>Engineering</td>\n",
       "      <td>NaN</td>\n",
       "      <td>NaN</td>\n",
       "      <td>NaN</td>\n",
       "      <td>EHS</td>\n",
       "    </tr>\n",
       "    <tr>\n",
       "      <th>3</th>\n",
       "      <td>WO593796</td>\n",
       "      <td>2019-12-27 16:24:07</td>\n",
       "      <td>2019-12-31 11:24:07</td>\n",
       "      <td>11.0</td>\n",
       "      <td>Complete</td>\n",
       "      <td>0.000000</td>\n",
       "      <td>Locksmith</td>\n",
       "      <td>NaN</td>\n",
       "      <td>NaN</td>\n",
       "      <td>NaN</td>\n",
       "      <td>EHS</td>\n",
       "    </tr>\n",
       "    <tr>\n",
       "      <th>4</th>\n",
       "      <td>WO681395</td>\n",
       "      <td>2019-01-08 13:59:11</td>\n",
       "      <td>2019-01-11 14:59:11</td>\n",
       "      <td>11.0</td>\n",
       "      <td>Complete</td>\n",
       "      <td>0.000000</td>\n",
       "      <td>Engineering</td>\n",
       "      <td>NaN</td>\n",
       "      <td>NaN</td>\n",
       "      <td>NaN</td>\n",
       "      <td>EHS</td>\n",
       "    </tr>\n",
       "    <tr>\n",
       "      <th>...</th>\n",
       "      <td>...</td>\n",
       "      <td>...</td>\n",
       "      <td>...</td>\n",
       "      <td>...</td>\n",
       "      <td>...</td>\n",
       "      <td>...</td>\n",
       "      <td>...</td>\n",
       "      <td>...</td>\n",
       "      <td>...</td>\n",
       "      <td>...</td>\n",
       "      <td>...</td>\n",
       "    </tr>\n",
       "    <tr>\n",
       "      <th>19995</th>\n",
       "      <td>WO433559</td>\n",
       "      <td>2018-02-23 13:32:02</td>\n",
       "      <td>2018-02-23 14:32:02</td>\n",
       "      <td>11.0</td>\n",
       "      <td>Complete</td>\n",
       "      <td>7.056641</td>\n",
       "      <td>Engineering</td>\n",
       "      <td>NaN</td>\n",
       "      <td>NaN</td>\n",
       "      <td>NaN</td>\n",
       "      <td>EHS</td>\n",
       "    </tr>\n",
       "    <tr>\n",
       "      <th>19996</th>\n",
       "      <td>WO437397</td>\n",
       "      <td>2019-06-19 10:27:38</td>\n",
       "      <td>2019-06-21 17:27:38</td>\n",
       "      <td>11.0</td>\n",
       "      <td>Complete</td>\n",
       "      <td>7.056641</td>\n",
       "      <td>Cleaning</td>\n",
       "      <td>NaN</td>\n",
       "      <td>NaN</td>\n",
       "      <td>NaN</td>\n",
       "      <td>EHS</td>\n",
       "    </tr>\n",
       "    <tr>\n",
       "      <th>19997</th>\n",
       "      <td>WO488684</td>\n",
       "      <td>2018-08-02 13:27:56</td>\n",
       "      <td>2018-08-02 14:27:56</td>\n",
       "      <td>2.0</td>\n",
       "      <td>Complete</td>\n",
       "      <td>7.056641</td>\n",
       "      <td>Engineering</td>\n",
       "      <td>NaN</td>\n",
       "      <td>NaN</td>\n",
       "      <td>NaN</td>\n",
       "      <td>EHS</td>\n",
       "    </tr>\n",
       "    <tr>\n",
       "      <th>19998</th>\n",
       "      <td>WO197340</td>\n",
       "      <td>2018-12-18 09:51:22</td>\n",
       "      <td>2018-12-21 10:51:22</td>\n",
       "      <td>11.0</td>\n",
       "      <td>Complete</td>\n",
       "      <td>327.869059</td>\n",
       "      <td>Building Maintenance</td>\n",
       "      <td>NaN</td>\n",
       "      <td>NaN</td>\n",
       "      <td>NaN</td>\n",
       "      <td>EHS</td>\n",
       "    </tr>\n",
       "    <tr>\n",
       "      <th>19999</th>\n",
       "      <td>WO348039</td>\n",
       "      <td>2019-03-14 11:02:01</td>\n",
       "      <td>2019-03-14 12:02:01</td>\n",
       "      <td>11.0</td>\n",
       "      <td>Complete</td>\n",
       "      <td>7.056641</td>\n",
       "      <td>Plumber</td>\n",
       "      <td>NaN</td>\n",
       "      <td>NaN</td>\n",
       "      <td>NaN</td>\n",
       "      <td>EHS</td>\n",
       "    </tr>\n",
       "  </tbody>\n",
       "</table>\n",
       "<p>20000 rows × 11 columns</p>\n",
       "</div>"
      ],
      "text/plain": [
       "        OrderID            Startdate              Enddate  Priority    Status  \\\n",
       "0      WO644462  2019-04-25 12:49:25  2019-04-29 13:49:25      11.0  Complete   \n",
       "1      WO135407  2019-10-04 14:36:17  2019-10-04 15:36:17      11.0  Complete   \n",
       "2      WO618754  2019-12-09 16:58:34  2019-12-12 11:58:34      11.0    Onhold   \n",
       "3      WO593796  2019-12-27 16:24:07  2019-12-31 11:24:07      11.0  Complete   \n",
       "4      WO681395  2019-01-08 13:59:11  2019-01-11 14:59:11      11.0  Complete   \n",
       "...         ...                  ...                  ...       ...       ...   \n",
       "19995  WO433559  2018-02-23 13:32:02  2018-02-23 14:32:02      11.0  Complete   \n",
       "19996  WO437397  2019-06-19 10:27:38  2019-06-21 17:27:38      11.0  Complete   \n",
       "19997  WO488684  2018-08-02 13:27:56  2018-08-02 14:27:56       2.0  Complete   \n",
       "19998  WO197340  2018-12-18 09:51:22  2018-12-21 10:51:22      11.0  Complete   \n",
       "19999  WO348039  2019-03-14 11:02:01  2019-03-14 12:02:01      11.0  Complete   \n",
       "\n",
       "       ActLaborHrs                 Group SubGroup Responsedays Responsehours  \\\n",
       "0         0.500000           Engineering      NaN          NaN           NaN   \n",
       "1         7.056641                  HVAC      NaN          NaN           NaN   \n",
       "2         0.000000           Engineering      NaN          NaN           NaN   \n",
       "3         0.000000             Locksmith      NaN          NaN           NaN   \n",
       "4         0.000000           Engineering      NaN          NaN           NaN   \n",
       "...            ...                   ...      ...          ...           ...   \n",
       "19995     7.056641           Engineering      NaN          NaN           NaN   \n",
       "19996     7.056641              Cleaning      NaN          NaN           NaN   \n",
       "19997     7.056641           Engineering      NaN          NaN           NaN   \n",
       "19998   327.869059  Building Maintenance      NaN          NaN           NaN   \n",
       "19999     7.056641               Plumber      NaN          NaN           NaN   \n",
       "\n",
       "            \n",
       "0      EHS  \n",
       "1      EHS  \n",
       "2      EHS  \n",
       "3      EHS  \n",
       "4      EHS  \n",
       "...    ...  \n",
       "19995  EHS  \n",
       "19996  EHS  \n",
       "19997  EHS  \n",
       "19998  EHS  \n",
       "19999  EHS  \n",
       "\n",
       "[20000 rows x 11 columns]"
      ]
     },
     "execution_count": 152,
     "metadata": {},
     "output_type": "execute_result"
    }
   ],
   "source": [
    "dfN "
   ]
  },
  {
   "cell_type": "markdown",
   "metadata": {},
   "source": [
    "### Group&SubGroup"
   ]
  },
  {
   "cell_type": "code",
   "execution_count": 153,
   "metadata": {},
   "outputs": [],
   "source": [
    "def get_employee_names(people):\n",
    "    l = []\n",
    "    for i in range(0, people):\n",
    "        n = fake.name()\n",
    "        l.append(n)\n",
    "    return l"
   ]
  },
  {
   "cell_type": "code",
   "execution_count": 154,
   "metadata": {},
   "outputs": [],
   "source": [
    "group_list = ['EHS', 'Engineering', 'HVAC', 'Electrical',\n",
    "              'Fire safety', 'Plumber', 'Locksmith', 'CallCenter', 'Landscape service',\n",
    "              'Security', 'Cleaning', 'Energy', 'Building Maintenance',\n",
    "              'IT', 'Managment']\n",
    "group_weight = [0.005, 0.15, 0.13, 0.03,\n",
    "                0.09, 0.08, 0.10, 0.08, 0.003,\n",
    "                0.03, 0.09, 0.07, 0.133,\n",
    "                0.005, 0.004]"
   ]
  },
  {
   "cell_type": "code",
   "execution_count": 155,
   "metadata": {},
   "outputs": [
    {
     "data": {
      "text/plain": [
       "1.0"
      ]
     },
     "execution_count": 155,
     "metadata": {},
     "output_type": "execute_result"
    }
   ],
   "source": [
    "sum(group_weight)"
   ]
  },
  {
   "cell_type": "code",
   "execution_count": 156,
   "metadata": {},
   "outputs": [
    {
     "data": {
      "text/plain": [
       "15"
      ]
     },
     "execution_count": 156,
     "metadata": {},
     "output_type": "execute_result"
    }
   ],
   "source": [
    "len(group_list)"
   ]
  },
  {
   "cell_type": "code",
   "execution_count": 157,
   "metadata": {},
   "outputs": [],
   "source": [
    "dfN['Group'] =  choice(group_list, 20000, p = group_weight)"
   ]
  },
  {
   "cell_type": "code",
   "execution_count": 158,
   "metadata": {},
   "outputs": [
    {
     "data": {
      "text/plain": [
       "Engineering             3062\n",
       "Building Maintenance    2678\n",
       "HVAC                    2561\n",
       "Locksmith               1965\n",
       "Fire safety             1817\n",
       "Cleaning                1793\n",
       "CallCenter              1647\n",
       "Plumber                 1611\n",
       "Energy                  1335\n",
       "Security                 595\n",
       "Electrical               586\n",
       "IT                       100\n",
       "EHS                       96\n",
       "Managment                 93\n",
       "Landscape service         61\n",
       "Name: Group, dtype: int64"
      ]
     },
     "execution_count": 158,
     "metadata": {},
     "output_type": "execute_result"
    }
   ],
   "source": [
    "dfN['Group'].value_counts()"
   ]
  },
  {
   "cell_type": "code",
   "execution_count": 159,
   "metadata": {},
   "outputs": [],
   "source": [
    "#dfN.to_csv('fake_data1.csv')"
   ]
  },
  {
   "cell_type": "code",
   "execution_count": 160,
   "metadata": {},
   "outputs": [
    {
     "data": {
      "text/html": [
       "<div>\n",
       "<style scoped>\n",
       "    .dataframe tbody tr th:only-of-type {\n",
       "        vertical-align: middle;\n",
       "    }\n",
       "\n",
       "    .dataframe tbody tr th {\n",
       "        vertical-align: top;\n",
       "    }\n",
       "\n",
       "    .dataframe thead th {\n",
       "        text-align: right;\n",
       "    }\n",
       "</style>\n",
       "<table border=\"1\" class=\"dataframe\">\n",
       "  <thead>\n",
       "    <tr style=\"text-align: right;\">\n",
       "      <th></th>\n",
       "      <th>OrderID</th>\n",
       "      <th>Startdate</th>\n",
       "      <th>Enddate</th>\n",
       "      <th>Priority</th>\n",
       "      <th>Status</th>\n",
       "      <th>ActLaborHrs</th>\n",
       "      <th>Group</th>\n",
       "      <th>SubGroup</th>\n",
       "      <th>Responsedays</th>\n",
       "      <th>Responsehours</th>\n",
       "      <th></th>\n",
       "    </tr>\n",
       "  </thead>\n",
       "  <tbody>\n",
       "    <tr>\n",
       "      <th>0</th>\n",
       "      <td>WO644462</td>\n",
       "      <td>2019-04-25 12:49:25</td>\n",
       "      <td>2019-04-29 13:49:25</td>\n",
       "      <td>11.0</td>\n",
       "      <td>Complete</td>\n",
       "      <td>0.500000</td>\n",
       "      <td>Plumber</td>\n",
       "      <td>NaN</td>\n",
       "      <td>NaN</td>\n",
       "      <td>NaN</td>\n",
       "      <td>EHS</td>\n",
       "    </tr>\n",
       "    <tr>\n",
       "      <th>1</th>\n",
       "      <td>WO135407</td>\n",
       "      <td>2019-10-04 14:36:17</td>\n",
       "      <td>2019-10-04 15:36:17</td>\n",
       "      <td>11.0</td>\n",
       "      <td>Complete</td>\n",
       "      <td>7.056641</td>\n",
       "      <td>Plumber</td>\n",
       "      <td>NaN</td>\n",
       "      <td>NaN</td>\n",
       "      <td>NaN</td>\n",
       "      <td>EHS</td>\n",
       "    </tr>\n",
       "    <tr>\n",
       "      <th>2</th>\n",
       "      <td>WO618754</td>\n",
       "      <td>2019-12-09 16:58:34</td>\n",
       "      <td>2019-12-12 11:58:34</td>\n",
       "      <td>11.0</td>\n",
       "      <td>Onhold</td>\n",
       "      <td>0.000000</td>\n",
       "      <td>CallCenter</td>\n",
       "      <td>NaN</td>\n",
       "      <td>NaN</td>\n",
       "      <td>NaN</td>\n",
       "      <td>EHS</td>\n",
       "    </tr>\n",
       "    <tr>\n",
       "      <th>3</th>\n",
       "      <td>WO593796</td>\n",
       "      <td>2019-12-27 16:24:07</td>\n",
       "      <td>2019-12-31 11:24:07</td>\n",
       "      <td>11.0</td>\n",
       "      <td>Complete</td>\n",
       "      <td>0.000000</td>\n",
       "      <td>Engineering</td>\n",
       "      <td>NaN</td>\n",
       "      <td>NaN</td>\n",
       "      <td>NaN</td>\n",
       "      <td>EHS</td>\n",
       "    </tr>\n",
       "    <tr>\n",
       "      <th>4</th>\n",
       "      <td>WO681395</td>\n",
       "      <td>2019-01-08 13:59:11</td>\n",
       "      <td>2019-01-11 14:59:11</td>\n",
       "      <td>11.0</td>\n",
       "      <td>Complete</td>\n",
       "      <td>0.000000</td>\n",
       "      <td>Cleaning</td>\n",
       "      <td>NaN</td>\n",
       "      <td>NaN</td>\n",
       "      <td>NaN</td>\n",
       "      <td>EHS</td>\n",
       "    </tr>\n",
       "    <tr>\n",
       "      <th>...</th>\n",
       "      <td>...</td>\n",
       "      <td>...</td>\n",
       "      <td>...</td>\n",
       "      <td>...</td>\n",
       "      <td>...</td>\n",
       "      <td>...</td>\n",
       "      <td>...</td>\n",
       "      <td>...</td>\n",
       "      <td>...</td>\n",
       "      <td>...</td>\n",
       "      <td>...</td>\n",
       "    </tr>\n",
       "    <tr>\n",
       "      <th>19995</th>\n",
       "      <td>WO433559</td>\n",
       "      <td>2018-02-23 13:32:02</td>\n",
       "      <td>2018-02-23 14:32:02</td>\n",
       "      <td>11.0</td>\n",
       "      <td>Complete</td>\n",
       "      <td>7.056641</td>\n",
       "      <td>Locksmith</td>\n",
       "      <td>NaN</td>\n",
       "      <td>NaN</td>\n",
       "      <td>NaN</td>\n",
       "      <td>EHS</td>\n",
       "    </tr>\n",
       "    <tr>\n",
       "      <th>19996</th>\n",
       "      <td>WO437397</td>\n",
       "      <td>2019-06-19 10:27:38</td>\n",
       "      <td>2019-06-21 17:27:38</td>\n",
       "      <td>11.0</td>\n",
       "      <td>Complete</td>\n",
       "      <td>7.056641</td>\n",
       "      <td>Fire safety</td>\n",
       "      <td>NaN</td>\n",
       "      <td>NaN</td>\n",
       "      <td>NaN</td>\n",
       "      <td>EHS</td>\n",
       "    </tr>\n",
       "    <tr>\n",
       "      <th>19997</th>\n",
       "      <td>WO488684</td>\n",
       "      <td>2018-08-02 13:27:56</td>\n",
       "      <td>2018-08-02 14:27:56</td>\n",
       "      <td>2.0</td>\n",
       "      <td>Complete</td>\n",
       "      <td>7.056641</td>\n",
       "      <td>Building Maintenance</td>\n",
       "      <td>NaN</td>\n",
       "      <td>NaN</td>\n",
       "      <td>NaN</td>\n",
       "      <td>EHS</td>\n",
       "    </tr>\n",
       "    <tr>\n",
       "      <th>19998</th>\n",
       "      <td>WO197340</td>\n",
       "      <td>2018-12-18 09:51:22</td>\n",
       "      <td>2018-12-21 10:51:22</td>\n",
       "      <td>11.0</td>\n",
       "      <td>Complete</td>\n",
       "      <td>327.869059</td>\n",
       "      <td>Security</td>\n",
       "      <td>NaN</td>\n",
       "      <td>NaN</td>\n",
       "      <td>NaN</td>\n",
       "      <td>EHS</td>\n",
       "    </tr>\n",
       "    <tr>\n",
       "      <th>19999</th>\n",
       "      <td>WO348039</td>\n",
       "      <td>2019-03-14 11:02:01</td>\n",
       "      <td>2019-03-14 12:02:01</td>\n",
       "      <td>11.0</td>\n",
       "      <td>Complete</td>\n",
       "      <td>7.056641</td>\n",
       "      <td>CallCenter</td>\n",
       "      <td>NaN</td>\n",
       "      <td>NaN</td>\n",
       "      <td>NaN</td>\n",
       "      <td>EHS</td>\n",
       "    </tr>\n",
       "  </tbody>\n",
       "</table>\n",
       "<p>20000 rows × 11 columns</p>\n",
       "</div>"
      ],
      "text/plain": [
       "        OrderID            Startdate              Enddate  Priority    Status  \\\n",
       "0      WO644462  2019-04-25 12:49:25  2019-04-29 13:49:25      11.0  Complete   \n",
       "1      WO135407  2019-10-04 14:36:17  2019-10-04 15:36:17      11.0  Complete   \n",
       "2      WO618754  2019-12-09 16:58:34  2019-12-12 11:58:34      11.0    Onhold   \n",
       "3      WO593796  2019-12-27 16:24:07  2019-12-31 11:24:07      11.0  Complete   \n",
       "4      WO681395  2019-01-08 13:59:11  2019-01-11 14:59:11      11.0  Complete   \n",
       "...         ...                  ...                  ...       ...       ...   \n",
       "19995  WO433559  2018-02-23 13:32:02  2018-02-23 14:32:02      11.0  Complete   \n",
       "19996  WO437397  2019-06-19 10:27:38  2019-06-21 17:27:38      11.0  Complete   \n",
       "19997  WO488684  2018-08-02 13:27:56  2018-08-02 14:27:56       2.0  Complete   \n",
       "19998  WO197340  2018-12-18 09:51:22  2018-12-21 10:51:22      11.0  Complete   \n",
       "19999  WO348039  2019-03-14 11:02:01  2019-03-14 12:02:01      11.0  Complete   \n",
       "\n",
       "       ActLaborHrs                 Group SubGroup Responsedays Responsehours  \\\n",
       "0         0.500000               Plumber      NaN          NaN           NaN   \n",
       "1         7.056641               Plumber      NaN          NaN           NaN   \n",
       "2         0.000000            CallCenter      NaN          NaN           NaN   \n",
       "3         0.000000           Engineering      NaN          NaN           NaN   \n",
       "4         0.000000              Cleaning      NaN          NaN           NaN   \n",
       "...            ...                   ...      ...          ...           ...   \n",
       "19995     7.056641             Locksmith      NaN          NaN           NaN   \n",
       "19996     7.056641           Fire safety      NaN          NaN           NaN   \n",
       "19997     7.056641  Building Maintenance      NaN          NaN           NaN   \n",
       "19998   327.869059              Security      NaN          NaN           NaN   \n",
       "19999     7.056641            CallCenter      NaN          NaN           NaN   \n",
       "\n",
       "            \n",
       "0      EHS  \n",
       "1      EHS  \n",
       "2      EHS  \n",
       "3      EHS  \n",
       "4      EHS  \n",
       "...    ...  \n",
       "19995  EHS  \n",
       "19996  EHS  \n",
       "19997  EHS  \n",
       "19998  EHS  \n",
       "19999  EHS  \n",
       "\n",
       "[20000 rows x 11 columns]"
      ]
     },
     "execution_count": 160,
     "metadata": {},
     "output_type": "execute_result"
    }
   ],
   "source": [
    "dfN"
   ]
  },
  {
   "cell_type": "markdown",
   "metadata": {},
   "source": [
    "### Status"
   ]
  },
  {
   "cell_type": "code",
   "execution_count": 161,
   "metadata": {},
   "outputs": [],
   "source": [
    "status_list = ['Cancel', 'Inprogress', 'Complete', 'Onhold']\n",
    "status_weight = [0.06, 0.15, 0.74, 0.05]"
   ]
  },
  {
   "cell_type": "code",
   "execution_count": 162,
   "metadata": {},
   "outputs": [
    {
     "data": {
      "text/plain": [
       "1.0"
      ]
     },
     "execution_count": 162,
     "metadata": {},
     "output_type": "execute_result"
    }
   ],
   "source": [
    "sum(status_weight)"
   ]
  },
  {
   "cell_type": "code",
   "execution_count": 163,
   "metadata": {},
   "outputs": [],
   "source": [
    "dfN['Status'] = choice(status_list, 20000, p = status_weight)"
   ]
  },
  {
   "cell_type": "code",
   "execution_count": 164,
   "metadata": {},
   "outputs": [
    {
     "data": {
      "text/plain": [
       "Complete      14765\n",
       "Inprogress     3044\n",
       "Cancel         1173\n",
       "Onhold         1018\n",
       "Name: Status, dtype: int64"
      ]
     },
     "execution_count": 164,
     "metadata": {},
     "output_type": "execute_result"
    }
   ],
   "source": [
    "dfN['Status'].value_counts()"
   ]
  },
  {
   "cell_type": "code",
   "execution_count": 165,
   "metadata": {},
   "outputs": [
    {
     "data": {
      "text/html": [
       "<div>\n",
       "<style scoped>\n",
       "    .dataframe tbody tr th:only-of-type {\n",
       "        vertical-align: middle;\n",
       "    }\n",
       "\n",
       "    .dataframe tbody tr th {\n",
       "        vertical-align: top;\n",
       "    }\n",
       "\n",
       "    .dataframe thead th {\n",
       "        text-align: right;\n",
       "    }\n",
       "</style>\n",
       "<table border=\"1\" class=\"dataframe\">\n",
       "  <thead>\n",
       "    <tr style=\"text-align: right;\">\n",
       "      <th></th>\n",
       "      <th>OrderID</th>\n",
       "      <th>Startdate</th>\n",
       "      <th>Enddate</th>\n",
       "      <th>Priority</th>\n",
       "      <th>Status</th>\n",
       "      <th>ActLaborHrs</th>\n",
       "      <th>Group</th>\n",
       "      <th>SubGroup</th>\n",
       "      <th>Responsedays</th>\n",
       "      <th>Responsehours</th>\n",
       "      <th></th>\n",
       "    </tr>\n",
       "  </thead>\n",
       "  <tbody>\n",
       "    <tr>\n",
       "      <th>0</th>\n",
       "      <td>WO644462</td>\n",
       "      <td>2019-04-25 12:49:25</td>\n",
       "      <td>2019-04-29 13:49:25</td>\n",
       "      <td>11.0</td>\n",
       "      <td>Complete</td>\n",
       "      <td>0.500000</td>\n",
       "      <td>Plumber</td>\n",
       "      <td>NaN</td>\n",
       "      <td>NaN</td>\n",
       "      <td>NaN</td>\n",
       "      <td>EHS</td>\n",
       "    </tr>\n",
       "    <tr>\n",
       "      <th>1</th>\n",
       "      <td>WO135407</td>\n",
       "      <td>2019-10-04 14:36:17</td>\n",
       "      <td>2019-10-04 15:36:17</td>\n",
       "      <td>11.0</td>\n",
       "      <td>Onhold</td>\n",
       "      <td>7.056641</td>\n",
       "      <td>Plumber</td>\n",
       "      <td>NaN</td>\n",
       "      <td>NaN</td>\n",
       "      <td>NaN</td>\n",
       "      <td>EHS</td>\n",
       "    </tr>\n",
       "    <tr>\n",
       "      <th>2</th>\n",
       "      <td>WO618754</td>\n",
       "      <td>2019-12-09 16:58:34</td>\n",
       "      <td>2019-12-12 11:58:34</td>\n",
       "      <td>11.0</td>\n",
       "      <td>Complete</td>\n",
       "      <td>0.000000</td>\n",
       "      <td>CallCenter</td>\n",
       "      <td>NaN</td>\n",
       "      <td>NaN</td>\n",
       "      <td>NaN</td>\n",
       "      <td>EHS</td>\n",
       "    </tr>\n",
       "    <tr>\n",
       "      <th>3</th>\n",
       "      <td>WO593796</td>\n",
       "      <td>2019-12-27 16:24:07</td>\n",
       "      <td>2019-12-31 11:24:07</td>\n",
       "      <td>11.0</td>\n",
       "      <td>Complete</td>\n",
       "      <td>0.000000</td>\n",
       "      <td>Engineering</td>\n",
       "      <td>NaN</td>\n",
       "      <td>NaN</td>\n",
       "      <td>NaN</td>\n",
       "      <td>EHS</td>\n",
       "    </tr>\n",
       "    <tr>\n",
       "      <th>4</th>\n",
       "      <td>WO681395</td>\n",
       "      <td>2019-01-08 13:59:11</td>\n",
       "      <td>2019-01-11 14:59:11</td>\n",
       "      <td>11.0</td>\n",
       "      <td>Complete</td>\n",
       "      <td>0.000000</td>\n",
       "      <td>Cleaning</td>\n",
       "      <td>NaN</td>\n",
       "      <td>NaN</td>\n",
       "      <td>NaN</td>\n",
       "      <td>EHS</td>\n",
       "    </tr>\n",
       "    <tr>\n",
       "      <th>5</th>\n",
       "      <td>WO383647</td>\n",
       "      <td>2018-04-30 13:28:41</td>\n",
       "      <td>2018-05-01 14:28:41</td>\n",
       "      <td>11.0</td>\n",
       "      <td>Onhold</td>\n",
       "      <td>0.000000</td>\n",
       "      <td>Building Maintenance</td>\n",
       "      <td>NaN</td>\n",
       "      <td>NaN</td>\n",
       "      <td>NaN</td>\n",
       "      <td>EHS</td>\n",
       "    </tr>\n",
       "    <tr>\n",
       "      <th>6</th>\n",
       "      <td>WO679171</td>\n",
       "      <td>2018-08-13 11:30:59</td>\n",
       "      <td>2018-08-14 12:30:59</td>\n",
       "      <td>11.0</td>\n",
       "      <td>Complete</td>\n",
       "      <td>0.000000</td>\n",
       "      <td>Locksmith</td>\n",
       "      <td>NaN</td>\n",
       "      <td>NaN</td>\n",
       "      <td>NaN</td>\n",
       "      <td>EHS</td>\n",
       "    </tr>\n",
       "    <tr>\n",
       "      <th>7</th>\n",
       "      <td>WO324891</td>\n",
       "      <td>2019-05-30 16:46:02</td>\n",
       "      <td>2019-05-30 17:46:02</td>\n",
       "      <td>11.0</td>\n",
       "      <td>Complete</td>\n",
       "      <td>7.056641</td>\n",
       "      <td>CallCenter</td>\n",
       "      <td>NaN</td>\n",
       "      <td>NaN</td>\n",
       "      <td>NaN</td>\n",
       "      <td>EHS</td>\n",
       "    </tr>\n",
       "    <tr>\n",
       "      <th>8</th>\n",
       "      <td>WO533851</td>\n",
       "      <td>2018-08-03 10:08:29</td>\n",
       "      <td>2018-08-07 11:08:29</td>\n",
       "      <td>11.0</td>\n",
       "      <td>Complete</td>\n",
       "      <td>7.056641</td>\n",
       "      <td>HVAC</td>\n",
       "      <td>NaN</td>\n",
       "      <td>NaN</td>\n",
       "      <td>NaN</td>\n",
       "      <td>EHS</td>\n",
       "    </tr>\n",
       "    <tr>\n",
       "      <th>9</th>\n",
       "      <td>WO132321</td>\n",
       "      <td>2018-09-21 11:02:07</td>\n",
       "      <td>2018-09-25 12:02:07</td>\n",
       "      <td>11.0</td>\n",
       "      <td>Complete</td>\n",
       "      <td>0.500000</td>\n",
       "      <td>Building Maintenance</td>\n",
       "      <td>NaN</td>\n",
       "      <td>NaN</td>\n",
       "      <td>NaN</td>\n",
       "      <td>EHS</td>\n",
       "    </tr>\n",
       "  </tbody>\n",
       "</table>\n",
       "</div>"
      ],
      "text/plain": [
       "    OrderID            Startdate              Enddate  Priority    Status  \\\n",
       "0  WO644462  2019-04-25 12:49:25  2019-04-29 13:49:25      11.0  Complete   \n",
       "1  WO135407  2019-10-04 14:36:17  2019-10-04 15:36:17      11.0    Onhold   \n",
       "2  WO618754  2019-12-09 16:58:34  2019-12-12 11:58:34      11.0  Complete   \n",
       "3  WO593796  2019-12-27 16:24:07  2019-12-31 11:24:07      11.0  Complete   \n",
       "4  WO681395  2019-01-08 13:59:11  2019-01-11 14:59:11      11.0  Complete   \n",
       "5  WO383647  2018-04-30 13:28:41  2018-05-01 14:28:41      11.0    Onhold   \n",
       "6  WO679171  2018-08-13 11:30:59  2018-08-14 12:30:59      11.0  Complete   \n",
       "7  WO324891  2019-05-30 16:46:02  2019-05-30 17:46:02      11.0  Complete   \n",
       "8  WO533851  2018-08-03 10:08:29  2018-08-07 11:08:29      11.0  Complete   \n",
       "9  WO132321  2018-09-21 11:02:07  2018-09-25 12:02:07      11.0  Complete   \n",
       "\n",
       "   ActLaborHrs                 Group SubGroup Responsedays Responsehours       \n",
       "0     0.500000               Plumber      NaN          NaN           NaN  EHS  \n",
       "1     7.056641               Plumber      NaN          NaN           NaN  EHS  \n",
       "2     0.000000            CallCenter      NaN          NaN           NaN  EHS  \n",
       "3     0.000000           Engineering      NaN          NaN           NaN  EHS  \n",
       "4     0.000000              Cleaning      NaN          NaN           NaN  EHS  \n",
       "5     0.000000  Building Maintenance      NaN          NaN           NaN  EHS  \n",
       "6     0.000000             Locksmith      NaN          NaN           NaN  EHS  \n",
       "7     7.056641            CallCenter      NaN          NaN           NaN  EHS  \n",
       "8     7.056641                  HVAC      NaN          NaN           NaN  EHS  \n",
       "9     0.500000  Building Maintenance      NaN          NaN           NaN  EHS  "
      ]
     },
     "execution_count": 165,
     "metadata": {},
     "output_type": "execute_result"
    }
   ],
   "source": [
    "dfN.head(10)"
   ]
  },
  {
   "cell_type": "code",
   "execution_count": null,
   "metadata": {},
   "outputs": [],
   "source": []
  }
 ],
 "metadata": {
  "kernelspec": {
   "display_name": "Python 3",
   "language": "python",
   "name": "python3"
  },
  "language_info": {
   "codemirror_mode": {
    "name": "ipython",
    "version": 3
   },
   "file_extension": ".py",
   "mimetype": "text/x-python",
   "name": "python",
   "nbconvert_exporter": "python",
   "pygments_lexer": "ipython3",
   "version": "3.7.3"
  }
 },
 "nbformat": 4,
 "nbformat_minor": 2
}

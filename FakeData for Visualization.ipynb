{
 "cells": [
  {
   "cell_type": "code",
   "execution_count": 16,
   "metadata": {},
   "outputs": [],
   "source": [
    "import pandas as pd\n",
    "import numpy as np\n",
    "import matplotlib.pyplot as plt\n",
    "%matplotlib inline\n",
    "from faker import Faker"
   ]
  },
  {
   "cell_type": "code",
   "execution_count": null,
   "metadata": {},
   "outputs": [],
   "source": [
    "df = pd.DataFrame(columns=['Number of Records', 'ActLaborHrs', 'Fiscalmonth', \n",
    "                           'Fiscalyear', 'Startdate', 'Owner', \n",
    "                           'SubGroup', 'SubGroupDesc', 'Responsedays', 'Responsehours', \n",
    "                           'Status', 'Enddate', 'OrderID', 'Priority'])\n",
    "\n"
   ]
  },
  {
   "cell_type": "code",
   "execution_count": null,
   "metadata": {},
   "outputs": [],
   "source": [
    "Numbers = []\n",
    "for i in range(20000):\n",
    "    Numbers.append(i)"
   ]
  },
  {
   "cell_type": "code",
   "execution_count": null,
   "metadata": {},
   "outputs": [],
   "source": [
    "df['Number of Records'] = Numbers"
   ]
  },
  {
   "cell_type": "code",
   "execution_count": null,
   "metadata": {},
   "outputs": [],
   "source": []
  },
  {
   "cell_type": "markdown",
   "metadata": {},
   "source": [
    "### Priority"
   ]
  },
  {
   "cell_type": "code",
   "execution_count": null,
   "metadata": {
    "scrolled": true
   },
   "outputs": [],
   "source": [
    "df['Priority'] = np.random.choice([1, 2, 11]) #df[0]"
   ]
  },
  {
   "cell_type": "code",
   "execution_count": null,
   "metadata": {},
   "outputs": [],
   "source": [
    "df['Priority'].value_counts()"
   ]
  },
  {
   "cell_type": "code",
   "execution_count": null,
   "metadata": {},
   "outputs": [],
   "source": [
    "dfupdate=df[df['Priority'] == 2 ].sample(2973)"
   ]
  },
  {
   "cell_type": "code",
   "execution_count": null,
   "metadata": {},
   "outputs": [],
   "source": [
    "dfupdate['Priority'] = 11\n",
    "df.update(dfupdate)"
   ]
  },
  {
   "cell_type": "code",
   "execution_count": null,
   "metadata": {},
   "outputs": [],
   "source": [
    "df['Priority'].value_counts()\n"
   ]
  },
  {
   "cell_type": "markdown",
   "metadata": {},
   "source": [
    "### ActLaborHrs"
   ]
  },
  {
   "cell_type": "code",
   "execution_count": null,
   "metadata": {},
   "outputs": [],
   "source": [
    "df['ActLaborHrs'] "
   ]
  },
  {
   "cell_type": "code",
   "execution_count": null,
   "metadata": {},
   "outputs": [],
   "source": [
    "df['ActLaborHrs'] = np.random.choice([ 0, 1, 2, 3])"
   ]
  },
  {
   "cell_type": "code",
   "execution_count": null,
   "metadata": {},
   "outputs": [],
   "source": [
    "dfupdate=df.sample(12973)\n",
    "dfupdate['ActLaborHrs'] = np.random.uniform(0,10)\n",
    "df.update(dfupdate)"
   ]
  },
  {
   "cell_type": "code",
   "execution_count": null,
   "metadata": {},
   "outputs": [],
   "source": [
    "dfupdate=df.sample(1000)\n",
    "dfupdate['ActLaborHrs'] = np.random.uniform(10,600)\n",
    "df.update(dfupdate)"
   ]
  },
  {
   "cell_type": "code",
   "execution_count": null,
   "metadata": {},
   "outputs": [],
   "source": [
    "dfupdate=df.sample(100)\n",
    "dfupdate['ActLaborHrs'] = np.random.uniform(100,4000)\n",
    "df.update(dfupdate)"
   ]
  },
  {
   "cell_type": "code",
   "execution_count": null,
   "metadata": {},
   "outputs": [],
   "source": [
    "dfupdate=df.sample(3000)\n",
    "dfupdate['ActLaborHrs'] = 0.5\n",
    "df.update(dfupdate)"
   ]
  },
  {
   "cell_type": "code",
   "execution_count": null,
   "metadata": {},
   "outputs": [],
   "source": [
    "df['ActLaborHrs'].describe()"
   ]
  },
  {
   "cell_type": "markdown",
   "metadata": {},
   "source": [
    "### FiscalYear, Month"
   ]
  },
  {
   "cell_type": "code",
   "execution_count": null,
   "metadata": {},
   "outputs": [],
   "source": [
    "df['Fiscalyear'] = 2018"
   ]
  },
  {
   "cell_type": "code",
   "execution_count": null,
   "metadata": {},
   "outputs": [],
   "source": [
    "dfupdate=df.sample(1782)\n",
    "dfupdate['Fiscalyear'] = 2019\n",
    "df.update(dfupdate)"
   ]
  },
  {
   "cell_type": "code",
   "execution_count": null,
   "metadata": {},
   "outputs": [],
   "source": [
    "df['Fiscalyear'].value_counts()"
   ]
  },
  {
   "cell_type": "code",
   "execution_count": null,
   "metadata": {},
   "outputs": [],
   "source": [
    "df['Fiscalmonth'] = np.random.randint(1,13, len(df))"
   ]
  },
  {
   "cell_type": "code",
   "execution_count": null,
   "metadata": {},
   "outputs": [],
   "source": [
    "dfupdate=df.sample(2000)\n",
    "dfupdate['Fiscalmonth'] = np.random.randint(6,13, len(dfupdate))\n",
    "df.update(dfupdate)"
   ]
  },
  {
   "cell_type": "code",
   "execution_count": null,
   "metadata": {},
   "outputs": [],
   "source": [
    "df['Fiscalmonth'].value_counts()"
   ]
  },
  {
   "cell_type": "code",
   "execution_count": null,
   "metadata": {},
   "outputs": [],
   "source": [
    "### Response Hour/ Day"
   ]
  },
  {
   "cell_type": "code",
   "execution_count": null,
   "metadata": {},
   "outputs": [],
   "source": [
    "df['Responsedays']= np.random.choice([1,2,3,4]) "
   ]
  },
  {
   "cell_type": "code",
   "execution_count": null,
   "metadata": {},
   "outputs": [],
   "source": [
    "dfupdateP1=df[(df['Priority'] == 1) | (df['Priority'] == 2)].sample(3000)\n",
    "dfupdateP1['Responsedays'] = np.random.randint(2,30, len(dfupdateP1))\n",
    "df.update(dfupdateP1)\n",
    "dfupdateP1['Priority'].value_counts()"
   ]
  },
  {
   "cell_type": "code",
   "execution_count": null,
   "metadata": {},
   "outputs": [],
   "source": [
    "dfupdateP11 = df[(df['Priority'] == 11)].sample(5000)\n",
    "dfupdateP11['Responsedays'] = np.random.randint(1,8, len(dfupdateP11))\n",
    "df.update(dfupdateP11)\n",
    "dfupdateP11['Priority'].value_counts()"
   ]
  },
  {
   "cell_type": "code",
   "execution_count": null,
   "metadata": {},
   "outputs": [],
   "source": [
    "df['Responsedays'][(df['Priority'] == 1)| (df['Priority'] == 2)].describe()"
   ]
  },
  {
   "cell_type": "code",
   "execution_count": null,
   "metadata": {
    "scrolled": true
   },
   "outputs": [],
   "source": [
    "df['Responsedays'][(df['Priority'] == 11)].describe()"
   ]
  },
  {
   "cell_type": "code",
   "execution_count": null,
   "metadata": {},
   "outputs": [],
   "source": [
    "df = df.round({'Responsedays': 0})"
   ]
  },
  {
   "cell_type": "code",
   "execution_count": null,
   "metadata": {},
   "outputs": [],
   "source": [
    "df['Responsedays']"
   ]
  },
  {
   "cell_type": "code",
   "execution_count": null,
   "metadata": {},
   "outputs": [],
   "source": [
    "df['Responsehours'] = df['Responsedays'] * 24\n",
    "df['Responsehours'].describe()"
   ]
  },
  {
   "cell_type": "code",
   "execution_count": null,
   "metadata": {},
   "outputs": [],
   "source": [
    "df['Responsehours'][df['Responsehours'] == 24].count()"
   ]
  },
  {
   "cell_type": "code",
   "execution_count": null,
   "metadata": {
    "scrolled": true
   },
   "outputs": [],
   "source": [
    "dfN = df"
   ]
  },
  {
   "cell_type": "code",
   "execution_count": null,
   "metadata": {},
   "outputs": [],
   "source": [
    "dfN "
   ]
  },
  {
   "cell_type": "code",
   "execution_count": null,
   "metadata": {},
   "outputs": [],
   "source": [
    "dfN['OrderID'] = random.sample(range(100000,700000), 20000)"
   ]
  },
  {
   "cell_type": "code",
   "execution_count": null,
   "metadata": {},
   "outputs": [],
   "source": [
    "import random\n",
    "from random import randint"
   ]
  },
  {
   "cell_type": "code",
   "execution_count": null,
   "metadata": {},
   "outputs": [],
   "source": [
    "dfN['OrderID'].count()"
   ]
  },
  {
   "cell_type": "code",
   "execution_count": null,
   "metadata": {},
   "outputs": [],
   "source": [
    "dfN['OrderID'].duplicated().sum()"
   ]
  },
  {
   "cell_type": "code",
   "execution_count": null,
   "metadata": {},
   "outputs": [],
   "source": [
    "dfN['OrderID'] = 'WO' + dfN['OrderID'].astype(str)"
   ]
  },
  {
   "cell_type": "code",
   "execution_count": null,
   "metadata": {},
   "outputs": [],
   "source": [
    "dfN['OrderID'] .head(20)"
   ]
  },
  {
   "cell_type": "code",
   "execution_count": null,
   "metadata": {},
   "outputs": [],
   "source": [
    "dfN "
   ]
  },
  {
   "cell_type": "markdown",
   "metadata": {},
   "source": [
    "### Group&SubGroup"
   ]
  },
  {
   "cell_type": "code",
   "execution_count": 40,
   "metadata": {},
   "outputs": [],
   "source": [
    "df = pd.read_csv('fake_data1.csv')\n",
    "dfN = df"
   ]
  },
  {
   "cell_type": "code",
   "execution_count": 41,
   "metadata": {},
   "outputs": [],
   "source": []
  },
  {
   "cell_type": "code",
   "execution_count": 42,
   "metadata": {},
   "outputs": [],
   "source": [
    "def get_employee_names(people):\n",
    "    l = []\n",
    "    for i in range(0, people):\n",
    "        n = fake.name()\n",
    "        l.append(n)\n",
    "    return l"
   ]
  },
  {
   "cell_type": "code",
   "execution_count": null,
   "metadata": {},
   "outputs": [],
   "source": [
    "df['']= np.random.choice(['EHS'])"
   ]
  },
  {
   "cell_type": "code",
   "execution_count": 46,
   "metadata": {},
   "outputs": [
    {
     "data": {
      "text/html": [
       "<div>\n",
       "<style scoped>\n",
       "    .dataframe tbody tr th:only-of-type {\n",
       "        vertical-align: middle;\n",
       "    }\n",
       "\n",
       "    .dataframe tbody tr th {\n",
       "        vertical-align: top;\n",
       "    }\n",
       "\n",
       "    .dataframe thead th {\n",
       "        text-align: right;\n",
       "    }\n",
       "</style>\n",
       "<table border=\"1\" class=\"dataframe\">\n",
       "  <thead>\n",
       "    <tr style=\"text-align: right;\">\n",
       "      <th></th>\n",
       "      <th>Unnamed: 0</th>\n",
       "      <th>Number of Records</th>\n",
       "      <th>ActLaborHrs</th>\n",
       "      <th>Fiscalmonth</th>\n",
       "      <th>Fiscalyear</th>\n",
       "      <th>Startdate</th>\n",
       "      <th>Owner</th>\n",
       "      <th>SubGroup</th>\n",
       "      <th>SubGroupDesc</th>\n",
       "      <th>Responsedays</th>\n",
       "      <th>Responsehours</th>\n",
       "      <th>Status</th>\n",
       "      <th>Enddate</th>\n",
       "      <th>OrderID</th>\n",
       "      <th>Priority</th>\n",
       "    </tr>\n",
       "  </thead>\n",
       "  <tbody>\n",
       "    <tr>\n",
       "      <th>0</th>\n",
       "      <td>0</td>\n",
       "      <td>0.0</td>\n",
       "      <td>8.684484</td>\n",
       "      <td>3.0</td>\n",
       "      <td>2019.0</td>\n",
       "      <td>NaN</td>\n",
       "      <td>NaN</td>\n",
       "      <td>NaN</td>\n",
       "      <td>NaN</td>\n",
       "      <td>2.0</td>\n",
       "      <td>48.0</td>\n",
       "      <td>NaN</td>\n",
       "      <td>NaN</td>\n",
       "      <td>WO661969</td>\n",
       "      <td>11.0</td>\n",
       "    </tr>\n",
       "    <tr>\n",
       "      <th>1</th>\n",
       "      <td>1</td>\n",
       "      <td>1.0</td>\n",
       "      <td>0.500000</td>\n",
       "      <td>5.0</td>\n",
       "      <td>2018.0</td>\n",
       "      <td>NaN</td>\n",
       "      <td>NaN</td>\n",
       "      <td>NaN</td>\n",
       "      <td>NaN</td>\n",
       "      <td>2.0</td>\n",
       "      <td>48.0</td>\n",
       "      <td>NaN</td>\n",
       "      <td>NaN</td>\n",
       "      <td>WO153330</td>\n",
       "      <td>11.0</td>\n",
       "    </tr>\n",
       "    <tr>\n",
       "      <th>2</th>\n",
       "      <td>2</td>\n",
       "      <td>2.0</td>\n",
       "      <td>8.684484</td>\n",
       "      <td>1.0</td>\n",
       "      <td>2019.0</td>\n",
       "      <td>NaN</td>\n",
       "      <td>NaN</td>\n",
       "      <td>NaN</td>\n",
       "      <td>NaN</td>\n",
       "      <td>3.0</td>\n",
       "      <td>72.0</td>\n",
       "      <td>NaN</td>\n",
       "      <td>NaN</td>\n",
       "      <td>WO500668</td>\n",
       "      <td>1.0</td>\n",
       "    </tr>\n",
       "    <tr>\n",
       "      <th>3</th>\n",
       "      <td>3</td>\n",
       "      <td>3.0</td>\n",
       "      <td>8.684484</td>\n",
       "      <td>5.0</td>\n",
       "      <td>2019.0</td>\n",
       "      <td>NaN</td>\n",
       "      <td>NaN</td>\n",
       "      <td>NaN</td>\n",
       "      <td>NaN</td>\n",
       "      <td>5.0</td>\n",
       "      <td>120.0</td>\n",
       "      <td>NaN</td>\n",
       "      <td>NaN</td>\n",
       "      <td>WO265042</td>\n",
       "      <td>11.0</td>\n",
       "    </tr>\n",
       "    <tr>\n",
       "      <th>4</th>\n",
       "      <td>4</td>\n",
       "      <td>4.0</td>\n",
       "      <td>8.684484</td>\n",
       "      <td>3.0</td>\n",
       "      <td>2019.0</td>\n",
       "      <td>NaN</td>\n",
       "      <td>NaN</td>\n",
       "      <td>NaN</td>\n",
       "      <td>NaN</td>\n",
       "      <td>5.0</td>\n",
       "      <td>120.0</td>\n",
       "      <td>NaN</td>\n",
       "      <td>NaN</td>\n",
       "      <td>WO488035</td>\n",
       "      <td>1.0</td>\n",
       "    </tr>\n",
       "    <tr>\n",
       "      <th>...</th>\n",
       "      <td>...</td>\n",
       "      <td>...</td>\n",
       "      <td>...</td>\n",
       "      <td>...</td>\n",
       "      <td>...</td>\n",
       "      <td>...</td>\n",
       "      <td>...</td>\n",
       "      <td>...</td>\n",
       "      <td>...</td>\n",
       "      <td>...</td>\n",
       "      <td>...</td>\n",
       "      <td>...</td>\n",
       "      <td>...</td>\n",
       "      <td>...</td>\n",
       "      <td>...</td>\n",
       "    </tr>\n",
       "    <tr>\n",
       "      <th>19995</th>\n",
       "      <td>19995</td>\n",
       "      <td>19995.0</td>\n",
       "      <td>0.500000</td>\n",
       "      <td>9.0</td>\n",
       "      <td>2019.0</td>\n",
       "      <td>NaN</td>\n",
       "      <td>NaN</td>\n",
       "      <td>NaN</td>\n",
       "      <td>NaN</td>\n",
       "      <td>7.0</td>\n",
       "      <td>168.0</td>\n",
       "      <td>NaN</td>\n",
       "      <td>NaN</td>\n",
       "      <td>WO439994</td>\n",
       "      <td>11.0</td>\n",
       "    </tr>\n",
       "    <tr>\n",
       "      <th>19996</th>\n",
       "      <td>19996</td>\n",
       "      <td>19996.0</td>\n",
       "      <td>1.000000</td>\n",
       "      <td>12.0</td>\n",
       "      <td>2019.0</td>\n",
       "      <td>NaN</td>\n",
       "      <td>NaN</td>\n",
       "      <td>NaN</td>\n",
       "      <td>NaN</td>\n",
       "      <td>5.0</td>\n",
       "      <td>120.0</td>\n",
       "      <td>NaN</td>\n",
       "      <td>NaN</td>\n",
       "      <td>WO403049</td>\n",
       "      <td>1.0</td>\n",
       "    </tr>\n",
       "    <tr>\n",
       "      <th>19997</th>\n",
       "      <td>19997</td>\n",
       "      <td>19997.0</td>\n",
       "      <td>1.000000</td>\n",
       "      <td>1.0</td>\n",
       "      <td>2019.0</td>\n",
       "      <td>NaN</td>\n",
       "      <td>NaN</td>\n",
       "      <td>NaN</td>\n",
       "      <td>NaN</td>\n",
       "      <td>77.0</td>\n",
       "      <td>1848.0</td>\n",
       "      <td>NaN</td>\n",
       "      <td>NaN</td>\n",
       "      <td>WO558988</td>\n",
       "      <td>11.0</td>\n",
       "    </tr>\n",
       "    <tr>\n",
       "      <th>19998</th>\n",
       "      <td>19998</td>\n",
       "      <td>19998.0</td>\n",
       "      <td>1.000000</td>\n",
       "      <td>8.0</td>\n",
       "      <td>2019.0</td>\n",
       "      <td>NaN</td>\n",
       "      <td>NaN</td>\n",
       "      <td>NaN</td>\n",
       "      <td>NaN</td>\n",
       "      <td>4.0</td>\n",
       "      <td>96.0</td>\n",
       "      <td>NaN</td>\n",
       "      <td>NaN</td>\n",
       "      <td>WO255731</td>\n",
       "      <td>11.0</td>\n",
       "    </tr>\n",
       "    <tr>\n",
       "      <th>19999</th>\n",
       "      <td>19999</td>\n",
       "      <td>19999.0</td>\n",
       "      <td>8.684484</td>\n",
       "      <td>12.0</td>\n",
       "      <td>2018.0</td>\n",
       "      <td>NaN</td>\n",
       "      <td>NaN</td>\n",
       "      <td>NaN</td>\n",
       "      <td>NaN</td>\n",
       "      <td>7.0</td>\n",
       "      <td>168.0</td>\n",
       "      <td>NaN</td>\n",
       "      <td>NaN</td>\n",
       "      <td>WO147374</td>\n",
       "      <td>11.0</td>\n",
       "    </tr>\n",
       "  </tbody>\n",
       "</table>\n",
       "<p>20000 rows × 15 columns</p>\n",
       "</div>"
      ],
      "text/plain": [
       "       Unnamed: 0  Number of Records  ActLaborHrs  Fiscalmonth  Fiscalyear  \\\n",
       "0               0                0.0     8.684484          3.0      2019.0   \n",
       "1               1                1.0     0.500000          5.0      2018.0   \n",
       "2               2                2.0     8.684484          1.0      2019.0   \n",
       "3               3                3.0     8.684484          5.0      2019.0   \n",
       "4               4                4.0     8.684484          3.0      2019.0   \n",
       "...           ...                ...          ...          ...         ...   \n",
       "19995       19995            19995.0     0.500000          9.0      2019.0   \n",
       "19996       19996            19996.0     1.000000         12.0      2019.0   \n",
       "19997       19997            19997.0     1.000000          1.0      2019.0   \n",
       "19998       19998            19998.0     1.000000          8.0      2019.0   \n",
       "19999       19999            19999.0     8.684484         12.0      2018.0   \n",
       "\n",
       "       Startdate  Owner  SubGroup  SubGroupDesc  Responsedays  Responsehours  \\\n",
       "0            NaN    NaN       NaN           NaN           2.0           48.0   \n",
       "1            NaN    NaN       NaN           NaN           2.0           48.0   \n",
       "2            NaN    NaN       NaN           NaN           3.0           72.0   \n",
       "3            NaN    NaN       NaN           NaN           5.0          120.0   \n",
       "4            NaN    NaN       NaN           NaN           5.0          120.0   \n",
       "...          ...    ...       ...           ...           ...            ...   \n",
       "19995        NaN    NaN       NaN           NaN           7.0          168.0   \n",
       "19996        NaN    NaN       NaN           NaN           5.0          120.0   \n",
       "19997        NaN    NaN       NaN           NaN          77.0         1848.0   \n",
       "19998        NaN    NaN       NaN           NaN           4.0           96.0   \n",
       "19999        NaN    NaN       NaN           NaN           7.0          168.0   \n",
       "\n",
       "       Status  Enddate   OrderID  Priority  \n",
       "0         NaN      NaN  WO661969      11.0  \n",
       "1         NaN      NaN  WO153330      11.0  \n",
       "2         NaN      NaN  WO500668       1.0  \n",
       "3         NaN      NaN  WO265042      11.0  \n",
       "4         NaN      NaN  WO488035       1.0  \n",
       "...       ...      ...       ...       ...  \n",
       "19995     NaN      NaN  WO439994      11.0  \n",
       "19996     NaN      NaN  WO403049       1.0  \n",
       "19997     NaN      NaN  WO558988      11.0  \n",
       "19998     NaN      NaN  WO255731      11.0  \n",
       "19999     NaN      NaN  WO147374      11.0  \n",
       "\n",
       "[20000 rows x 15 columns]"
      ]
     },
     "execution_count": 46,
     "metadata": {},
     "output_type": "execute_result"
    }
   ],
   "source": [
    "dfN[]"
   ]
  },
  {
   "cell_type": "code",
   "execution_count": 151,
   "metadata": {},
   "outputs": [],
   "source": [
    "group_list = ['EHS', 'Engineering', 'HVAC', 'Electrical',\n",
    "              'Fire safety', 'Plumber', 'Locksmith', 'CallCenter', 'Landscape service',\n",
    "              'Security', 'Cleaning', 'Energy', 'Building Maintenance',\n",
    "              'IT', 'Managment']\n",
    "group_weight = [0.005, 0.15, 0.13, 0.03,\n",
    "                0.09, 0.08, 0.10, 0.08, 0.003,\n",
    "                0.03, 0.09, 0.07, 0.133,\n",
    "                0.005, 0.004]"
   ]
  },
  {
   "cell_type": "code",
   "execution_count": null,
   "metadata": {},
   "outputs": [],
   "source": []
  },
  {
   "cell_type": "code",
   "execution_count": 98,
   "metadata": {},
   "outputs": [
    {
     "data": {
      "text/plain": [
       "1.0"
      ]
     },
     "execution_count": 98,
     "metadata": {},
     "output_type": "execute_result"
    }
   ],
   "source": [
    "sum(group_weight)"
   ]
  },
  {
   "cell_type": "code",
   "execution_count": 110,
   "metadata": {},
   "outputs": [
    {
     "data": {
      "text/plain": [
       "15"
      ]
     },
     "execution_count": 110,
     "metadata": {},
     "output_type": "execute_result"
    }
   ],
   "source": [
    "len(group_list)"
   ]
  },
  {
   "cell_type": "code",
   "execution_count": 114,
   "metadata": {},
   "outputs": [],
   "source": [
    "from numpy.random import choice\n",
    "import random"
   ]
  },
  {
   "cell_type": "code",
   "execution_count": 158,
   "metadata": {},
   "outputs": [],
   "source": [
    "dfN['Group'] =  choice(group_list, 20000, p = group_weight)"
   ]
  },
  {
   "cell_type": "code",
   "execution_count": 159,
   "metadata": {},
   "outputs": [
    {
     "data": {
      "text/plain": [
       "Engineering             2953\n",
       "Building Maintenance    2640\n",
       "HVAC                    2593\n",
       "Locksmith               2048\n",
       "Cleaning                1800\n",
       "Fire safety             1780\n",
       "CallCenter              1634\n",
       "Plumber                 1577\n",
       "Energy                  1402\n",
       "Electrical               662\n",
       "Security                 603\n",
       "EHS                       92\n",
       "IT                        85\n",
       "Managment                 70\n",
       "Landscape service         61\n",
       "Name: Group, dtype: int64"
      ]
     },
     "execution_count": 159,
     "metadata": {},
     "output_type": "execute_result"
    }
   ],
   "source": [
    "dfN['Group'].value_counts()"
   ]
  },
  {
   "cell_type": "code",
   "execution_count": 160,
   "metadata": {},
   "outputs": [],
   "source": [
    "#dfN.to_csv('fake_data1.csv')"
   ]
  },
  {
   "cell_type": "code",
   "execution_count": 168,
   "metadata": {},
   "outputs": [],
   "source": [
    "\n",
    "del dfN['SubGroupDesc']"
   ]
  },
  {
   "cell_type": "code",
   "execution_count": 169,
   "metadata": {},
   "outputs": [
    {
     "data": {
      "text/html": [
       "<div>\n",
       "<style scoped>\n",
       "    .dataframe tbody tr th:only-of-type {\n",
       "        vertical-align: middle;\n",
       "    }\n",
       "\n",
       "    .dataframe tbody tr th {\n",
       "        vertical-align: top;\n",
       "    }\n",
       "\n",
       "    .dataframe thead th {\n",
       "        text-align: right;\n",
       "    }\n",
       "</style>\n",
       "<table border=\"1\" class=\"dataframe\">\n",
       "  <thead>\n",
       "    <tr style=\"text-align: right;\">\n",
       "      <th></th>\n",
       "      <th>ActLaborHrs</th>\n",
       "      <th>Fiscalmonth</th>\n",
       "      <th>Fiscalyear</th>\n",
       "      <th>Startdate</th>\n",
       "      <th>SubGroup</th>\n",
       "      <th>Responsedays</th>\n",
       "      <th>Responsehours</th>\n",
       "      <th>Status</th>\n",
       "      <th>Enddate</th>\n",
       "      <th>OrderID</th>\n",
       "      <th>Priority</th>\n",
       "      <th>Group</th>\n",
       "    </tr>\n",
       "  </thead>\n",
       "  <tbody>\n",
       "    <tr>\n",
       "      <th>0</th>\n",
       "      <td>8.684484</td>\n",
       "      <td>3.0</td>\n",
       "      <td>2019.0</td>\n",
       "      <td>NaN</td>\n",
       "      <td>NaN</td>\n",
       "      <td>2.0</td>\n",
       "      <td>48.0</td>\n",
       "      <td>NaN</td>\n",
       "      <td>NaN</td>\n",
       "      <td>WO661969</td>\n",
       "      <td>11.0</td>\n",
       "      <td>Engineering</td>\n",
       "    </tr>\n",
       "    <tr>\n",
       "      <th>1</th>\n",
       "      <td>0.500000</td>\n",
       "      <td>5.0</td>\n",
       "      <td>2018.0</td>\n",
       "      <td>NaN</td>\n",
       "      <td>NaN</td>\n",
       "      <td>2.0</td>\n",
       "      <td>48.0</td>\n",
       "      <td>NaN</td>\n",
       "      <td>NaN</td>\n",
       "      <td>WO153330</td>\n",
       "      <td>11.0</td>\n",
       "      <td>Building Maintenance</td>\n",
       "    </tr>\n",
       "    <tr>\n",
       "      <th>2</th>\n",
       "      <td>8.684484</td>\n",
       "      <td>1.0</td>\n",
       "      <td>2019.0</td>\n",
       "      <td>NaN</td>\n",
       "      <td>NaN</td>\n",
       "      <td>3.0</td>\n",
       "      <td>72.0</td>\n",
       "      <td>NaN</td>\n",
       "      <td>NaN</td>\n",
       "      <td>WO500668</td>\n",
       "      <td>1.0</td>\n",
       "      <td>Cleaning</td>\n",
       "    </tr>\n",
       "    <tr>\n",
       "      <th>3</th>\n",
       "      <td>8.684484</td>\n",
       "      <td>5.0</td>\n",
       "      <td>2019.0</td>\n",
       "      <td>NaN</td>\n",
       "      <td>NaN</td>\n",
       "      <td>5.0</td>\n",
       "      <td>120.0</td>\n",
       "      <td>NaN</td>\n",
       "      <td>NaN</td>\n",
       "      <td>WO265042</td>\n",
       "      <td>11.0</td>\n",
       "      <td>CallCenter</td>\n",
       "    </tr>\n",
       "    <tr>\n",
       "      <th>4</th>\n",
       "      <td>8.684484</td>\n",
       "      <td>3.0</td>\n",
       "      <td>2019.0</td>\n",
       "      <td>NaN</td>\n",
       "      <td>NaN</td>\n",
       "      <td>5.0</td>\n",
       "      <td>120.0</td>\n",
       "      <td>NaN</td>\n",
       "      <td>NaN</td>\n",
       "      <td>WO488035</td>\n",
       "      <td>1.0</td>\n",
       "      <td>Cleaning</td>\n",
       "    </tr>\n",
       "    <tr>\n",
       "      <th>...</th>\n",
       "      <td>...</td>\n",
       "      <td>...</td>\n",
       "      <td>...</td>\n",
       "      <td>...</td>\n",
       "      <td>...</td>\n",
       "      <td>...</td>\n",
       "      <td>...</td>\n",
       "      <td>...</td>\n",
       "      <td>...</td>\n",
       "      <td>...</td>\n",
       "      <td>...</td>\n",
       "      <td>...</td>\n",
       "    </tr>\n",
       "    <tr>\n",
       "      <th>19995</th>\n",
       "      <td>0.500000</td>\n",
       "      <td>9.0</td>\n",
       "      <td>2019.0</td>\n",
       "      <td>NaN</td>\n",
       "      <td>NaN</td>\n",
       "      <td>7.0</td>\n",
       "      <td>168.0</td>\n",
       "      <td>NaN</td>\n",
       "      <td>NaN</td>\n",
       "      <td>WO439994</td>\n",
       "      <td>11.0</td>\n",
       "      <td>Plumber</td>\n",
       "    </tr>\n",
       "    <tr>\n",
       "      <th>19996</th>\n",
       "      <td>1.000000</td>\n",
       "      <td>12.0</td>\n",
       "      <td>2019.0</td>\n",
       "      <td>NaN</td>\n",
       "      <td>NaN</td>\n",
       "      <td>5.0</td>\n",
       "      <td>120.0</td>\n",
       "      <td>NaN</td>\n",
       "      <td>NaN</td>\n",
       "      <td>WO403049</td>\n",
       "      <td>1.0</td>\n",
       "      <td>HVAC</td>\n",
       "    </tr>\n",
       "    <tr>\n",
       "      <th>19997</th>\n",
       "      <td>1.000000</td>\n",
       "      <td>1.0</td>\n",
       "      <td>2019.0</td>\n",
       "      <td>NaN</td>\n",
       "      <td>NaN</td>\n",
       "      <td>77.0</td>\n",
       "      <td>1848.0</td>\n",
       "      <td>NaN</td>\n",
       "      <td>NaN</td>\n",
       "      <td>WO558988</td>\n",
       "      <td>11.0</td>\n",
       "      <td>Energy</td>\n",
       "    </tr>\n",
       "    <tr>\n",
       "      <th>19998</th>\n",
       "      <td>1.000000</td>\n",
       "      <td>8.0</td>\n",
       "      <td>2019.0</td>\n",
       "      <td>NaN</td>\n",
       "      <td>NaN</td>\n",
       "      <td>4.0</td>\n",
       "      <td>96.0</td>\n",
       "      <td>NaN</td>\n",
       "      <td>NaN</td>\n",
       "      <td>WO255731</td>\n",
       "      <td>11.0</td>\n",
       "      <td>Locksmith</td>\n",
       "    </tr>\n",
       "    <tr>\n",
       "      <th>19999</th>\n",
       "      <td>8.684484</td>\n",
       "      <td>12.0</td>\n",
       "      <td>2018.0</td>\n",
       "      <td>NaN</td>\n",
       "      <td>NaN</td>\n",
       "      <td>7.0</td>\n",
       "      <td>168.0</td>\n",
       "      <td>NaN</td>\n",
       "      <td>NaN</td>\n",
       "      <td>WO147374</td>\n",
       "      <td>11.0</td>\n",
       "      <td>Cleaning</td>\n",
       "    </tr>\n",
       "  </tbody>\n",
       "</table>\n",
       "<p>20000 rows × 12 columns</p>\n",
       "</div>"
      ],
      "text/plain": [
       "       ActLaborHrs  Fiscalmonth  Fiscalyear  Startdate  SubGroup  \\\n",
       "0         8.684484          3.0      2019.0        NaN       NaN   \n",
       "1         0.500000          5.0      2018.0        NaN       NaN   \n",
       "2         8.684484          1.0      2019.0        NaN       NaN   \n",
       "3         8.684484          5.0      2019.0        NaN       NaN   \n",
       "4         8.684484          3.0      2019.0        NaN       NaN   \n",
       "...            ...          ...         ...        ...       ...   \n",
       "19995     0.500000          9.0      2019.0        NaN       NaN   \n",
       "19996     1.000000         12.0      2019.0        NaN       NaN   \n",
       "19997     1.000000          1.0      2019.0        NaN       NaN   \n",
       "19998     1.000000          8.0      2019.0        NaN       NaN   \n",
       "19999     8.684484         12.0      2018.0        NaN       NaN   \n",
       "\n",
       "       Responsedays  Responsehours  Status  Enddate   OrderID  Priority  \\\n",
       "0               2.0           48.0     NaN      NaN  WO661969      11.0   \n",
       "1               2.0           48.0     NaN      NaN  WO153330      11.0   \n",
       "2               3.0           72.0     NaN      NaN  WO500668       1.0   \n",
       "3               5.0          120.0     NaN      NaN  WO265042      11.0   \n",
       "4               5.0          120.0     NaN      NaN  WO488035       1.0   \n",
       "...             ...            ...     ...      ...       ...       ...   \n",
       "19995           7.0          168.0     NaN      NaN  WO439994      11.0   \n",
       "19996           5.0          120.0     NaN      NaN  WO403049       1.0   \n",
       "19997          77.0         1848.0     NaN      NaN  WO558988      11.0   \n",
       "19998           4.0           96.0     NaN      NaN  WO255731      11.0   \n",
       "19999           7.0          168.0     NaN      NaN  WO147374      11.0   \n",
       "\n",
       "                      Group  \n",
       "0               Engineering  \n",
       "1      Building Maintenance  \n",
       "2                  Cleaning  \n",
       "3                CallCenter  \n",
       "4                  Cleaning  \n",
       "...                     ...  \n",
       "19995               Plumber  \n",
       "19996                  HVAC  \n",
       "19997                Energy  \n",
       "19998             Locksmith  \n",
       "19999              Cleaning  \n",
       "\n",
       "[20000 rows x 12 columns]"
      ]
     },
     "execution_count": 169,
     "metadata": {},
     "output_type": "execute_result"
    }
   ],
   "source": [
    "dfN"
   ]
  },
  {
   "cell_type": "code",
   "execution_count": 171,
   "metadata": {},
   "outputs": [],
   "source": [
    "### Status"
   ]
  },
  {
   "cell_type": "code",
   "execution_count": 180,
   "metadata": {},
   "outputs": [],
   "source": [
    "status_list = ['Cancel', 'Inprogress', 'Complete', 'Onhold']\n",
    "status_weight = [0.06, 0.15, 0.74, 0.05]"
   ]
  },
  {
   "cell_type": "code",
   "execution_count": 181,
   "metadata": {},
   "outputs": [
    {
     "data": {
      "text/plain": [
       "1.0"
      ]
     },
     "execution_count": 181,
     "metadata": {},
     "output_type": "execute_result"
    }
   ],
   "source": [
    "sum(status_weight)"
   ]
  },
  {
   "cell_type": "code",
   "execution_count": 183,
   "metadata": {},
   "outputs": [],
   "source": [
    "dfN['Status'] = choice(status_list, 20000, p = status_weight)"
   ]
  },
  {
   "cell_type": "code",
   "execution_count": 185,
   "metadata": {},
   "outputs": [
    {
     "data": {
      "text/plain": [
       "Complete      14847\n",
       "Inprogress     2946\n",
       "Cancel         1190\n",
       "Onhold         1017\n",
       "Name: Status, dtype: int64"
      ]
     },
     "execution_count": 185,
     "metadata": {},
     "output_type": "execute_result"
    }
   ],
   "source": [
    "dfN['Status'].value_counts()"
   ]
  },
  {
   "cell_type": "code",
   "execution_count": 186,
   "metadata": {},
   "outputs": [
    {
     "data": {
      "text/html": [
       "<div>\n",
       "<style scoped>\n",
       "    .dataframe tbody tr th:only-of-type {\n",
       "        vertical-align: middle;\n",
       "    }\n",
       "\n",
       "    .dataframe tbody tr th {\n",
       "        vertical-align: top;\n",
       "    }\n",
       "\n",
       "    .dataframe thead th {\n",
       "        text-align: right;\n",
       "    }\n",
       "</style>\n",
       "<table border=\"1\" class=\"dataframe\">\n",
       "  <thead>\n",
       "    <tr style=\"text-align: right;\">\n",
       "      <th></th>\n",
       "      <th>ActLaborHrs</th>\n",
       "      <th>Fiscalmonth</th>\n",
       "      <th>Fiscalyear</th>\n",
       "      <th>Startdate</th>\n",
       "      <th>SubGroup</th>\n",
       "      <th>Responsedays</th>\n",
       "      <th>Responsehours</th>\n",
       "      <th>Status</th>\n",
       "      <th>Enddate</th>\n",
       "      <th>OrderID</th>\n",
       "      <th>Priority</th>\n",
       "      <th>Group</th>\n",
       "    </tr>\n",
       "  </thead>\n",
       "  <tbody>\n",
       "    <tr>\n",
       "      <th>0</th>\n",
       "      <td>8.684484</td>\n",
       "      <td>3.0</td>\n",
       "      <td>2019.0</td>\n",
       "      <td>NaN</td>\n",
       "      <td>NaN</td>\n",
       "      <td>2.0</td>\n",
       "      <td>48.0</td>\n",
       "      <td>Inprogress</td>\n",
       "      <td>NaN</td>\n",
       "      <td>WO661969</td>\n",
       "      <td>11.0</td>\n",
       "      <td>Engineering</td>\n",
       "    </tr>\n",
       "    <tr>\n",
       "      <th>1</th>\n",
       "      <td>0.500000</td>\n",
       "      <td>5.0</td>\n",
       "      <td>2018.0</td>\n",
       "      <td>NaN</td>\n",
       "      <td>NaN</td>\n",
       "      <td>2.0</td>\n",
       "      <td>48.0</td>\n",
       "      <td>Cancel</td>\n",
       "      <td>NaN</td>\n",
       "      <td>WO153330</td>\n",
       "      <td>11.0</td>\n",
       "      <td>Building Maintenance</td>\n",
       "    </tr>\n",
       "    <tr>\n",
       "      <th>2</th>\n",
       "      <td>8.684484</td>\n",
       "      <td>1.0</td>\n",
       "      <td>2019.0</td>\n",
       "      <td>NaN</td>\n",
       "      <td>NaN</td>\n",
       "      <td>3.0</td>\n",
       "      <td>72.0</td>\n",
       "      <td>Complete</td>\n",
       "      <td>NaN</td>\n",
       "      <td>WO500668</td>\n",
       "      <td>1.0</td>\n",
       "      <td>Cleaning</td>\n",
       "    </tr>\n",
       "    <tr>\n",
       "      <th>3</th>\n",
       "      <td>8.684484</td>\n",
       "      <td>5.0</td>\n",
       "      <td>2019.0</td>\n",
       "      <td>NaN</td>\n",
       "      <td>NaN</td>\n",
       "      <td>5.0</td>\n",
       "      <td>120.0</td>\n",
       "      <td>Complete</td>\n",
       "      <td>NaN</td>\n",
       "      <td>WO265042</td>\n",
       "      <td>11.0</td>\n",
       "      <td>CallCenter</td>\n",
       "    </tr>\n",
       "    <tr>\n",
       "      <th>4</th>\n",
       "      <td>8.684484</td>\n",
       "      <td>3.0</td>\n",
       "      <td>2019.0</td>\n",
       "      <td>NaN</td>\n",
       "      <td>NaN</td>\n",
       "      <td>5.0</td>\n",
       "      <td>120.0</td>\n",
       "      <td>Complete</td>\n",
       "      <td>NaN</td>\n",
       "      <td>WO488035</td>\n",
       "      <td>1.0</td>\n",
       "      <td>Cleaning</td>\n",
       "    </tr>\n",
       "    <tr>\n",
       "      <th>...</th>\n",
       "      <td>...</td>\n",
       "      <td>...</td>\n",
       "      <td>...</td>\n",
       "      <td>...</td>\n",
       "      <td>...</td>\n",
       "      <td>...</td>\n",
       "      <td>...</td>\n",
       "      <td>...</td>\n",
       "      <td>...</td>\n",
       "      <td>...</td>\n",
       "      <td>...</td>\n",
       "      <td>...</td>\n",
       "    </tr>\n",
       "    <tr>\n",
       "      <th>19995</th>\n",
       "      <td>0.500000</td>\n",
       "      <td>9.0</td>\n",
       "      <td>2019.0</td>\n",
       "      <td>NaN</td>\n",
       "      <td>NaN</td>\n",
       "      <td>7.0</td>\n",
       "      <td>168.0</td>\n",
       "      <td>Inprogress</td>\n",
       "      <td>NaN</td>\n",
       "      <td>WO439994</td>\n",
       "      <td>11.0</td>\n",
       "      <td>Plumber</td>\n",
       "    </tr>\n",
       "    <tr>\n",
       "      <th>19996</th>\n",
       "      <td>1.000000</td>\n",
       "      <td>12.0</td>\n",
       "      <td>2019.0</td>\n",
       "      <td>NaN</td>\n",
       "      <td>NaN</td>\n",
       "      <td>5.0</td>\n",
       "      <td>120.0</td>\n",
       "      <td>Complete</td>\n",
       "      <td>NaN</td>\n",
       "      <td>WO403049</td>\n",
       "      <td>1.0</td>\n",
       "      <td>HVAC</td>\n",
       "    </tr>\n",
       "    <tr>\n",
       "      <th>19997</th>\n",
       "      <td>1.000000</td>\n",
       "      <td>1.0</td>\n",
       "      <td>2019.0</td>\n",
       "      <td>NaN</td>\n",
       "      <td>NaN</td>\n",
       "      <td>77.0</td>\n",
       "      <td>1848.0</td>\n",
       "      <td>Complete</td>\n",
       "      <td>NaN</td>\n",
       "      <td>WO558988</td>\n",
       "      <td>11.0</td>\n",
       "      <td>Energy</td>\n",
       "    </tr>\n",
       "    <tr>\n",
       "      <th>19998</th>\n",
       "      <td>1.000000</td>\n",
       "      <td>8.0</td>\n",
       "      <td>2019.0</td>\n",
       "      <td>NaN</td>\n",
       "      <td>NaN</td>\n",
       "      <td>4.0</td>\n",
       "      <td>96.0</td>\n",
       "      <td>Complete</td>\n",
       "      <td>NaN</td>\n",
       "      <td>WO255731</td>\n",
       "      <td>11.0</td>\n",
       "      <td>Locksmith</td>\n",
       "    </tr>\n",
       "    <tr>\n",
       "      <th>19999</th>\n",
       "      <td>8.684484</td>\n",
       "      <td>12.0</td>\n",
       "      <td>2018.0</td>\n",
       "      <td>NaN</td>\n",
       "      <td>NaN</td>\n",
       "      <td>7.0</td>\n",
       "      <td>168.0</td>\n",
       "      <td>Complete</td>\n",
       "      <td>NaN</td>\n",
       "      <td>WO147374</td>\n",
       "      <td>11.0</td>\n",
       "      <td>Cleaning</td>\n",
       "    </tr>\n",
       "  </tbody>\n",
       "</table>\n",
       "<p>20000 rows × 12 columns</p>\n",
       "</div>"
      ],
      "text/plain": [
       "       ActLaborHrs  Fiscalmonth  Fiscalyear  Startdate  SubGroup  \\\n",
       "0         8.684484          3.0      2019.0        NaN       NaN   \n",
       "1         0.500000          5.0      2018.0        NaN       NaN   \n",
       "2         8.684484          1.0      2019.0        NaN       NaN   \n",
       "3         8.684484          5.0      2019.0        NaN       NaN   \n",
       "4         8.684484          3.0      2019.0        NaN       NaN   \n",
       "...            ...          ...         ...        ...       ...   \n",
       "19995     0.500000          9.0      2019.0        NaN       NaN   \n",
       "19996     1.000000         12.0      2019.0        NaN       NaN   \n",
       "19997     1.000000          1.0      2019.0        NaN       NaN   \n",
       "19998     1.000000          8.0      2019.0        NaN       NaN   \n",
       "19999     8.684484         12.0      2018.0        NaN       NaN   \n",
       "\n",
       "       Responsedays  Responsehours      Status  Enddate   OrderID  Priority  \\\n",
       "0               2.0           48.0  Inprogress      NaN  WO661969      11.0   \n",
       "1               2.0           48.0      Cancel      NaN  WO153330      11.0   \n",
       "2               3.0           72.0    Complete      NaN  WO500668       1.0   \n",
       "3               5.0          120.0    Complete      NaN  WO265042      11.0   \n",
       "4               5.0          120.0    Complete      NaN  WO488035       1.0   \n",
       "...             ...            ...         ...      ...       ...       ...   \n",
       "19995           7.0          168.0  Inprogress      NaN  WO439994      11.0   \n",
       "19996           5.0          120.0    Complete      NaN  WO403049       1.0   \n",
       "19997          77.0         1848.0    Complete      NaN  WO558988      11.0   \n",
       "19998           4.0           96.0    Complete      NaN  WO255731      11.0   \n",
       "19999           7.0          168.0    Complete      NaN  WO147374      11.0   \n",
       "\n",
       "                      Group  \n",
       "0               Engineering  \n",
       "1      Building Maintenance  \n",
       "2                  Cleaning  \n",
       "3                CallCenter  \n",
       "4                  Cleaning  \n",
       "...                     ...  \n",
       "19995               Plumber  \n",
       "19996                  HVAC  \n",
       "19997                Energy  \n",
       "19998             Locksmith  \n",
       "19999              Cleaning  \n",
       "\n",
       "[20000 rows x 12 columns]"
      ]
     },
     "execution_count": 186,
     "metadata": {},
     "output_type": "execute_result"
    }
   ],
   "source": [
    "dfN"
   ]
  },
  {
   "cell_type": "code",
   "execution_count": null,
   "metadata": {},
   "outputs": [],
   "source": []
  }
 ],
 "metadata": {
  "kernelspec": {
   "display_name": "Python 3",
   "language": "python",
   "name": "python3"
  },
  "language_info": {
   "codemirror_mode": {
    "name": "ipython",
    "version": 3
   },
   "file_extension": ".py",
   "mimetype": "text/x-python",
   "name": "python",
   "nbconvert_exporter": "python",
   "pygments_lexer": "ipython3",
   "version": "3.7.3"
  }
 },
 "nbformat": 4,
 "nbformat_minor": 2
}

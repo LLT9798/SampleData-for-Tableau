{
 "cells": [
  {
   "cell_type": "code",
   "execution_count": 97,
   "metadata": {},
   "outputs": [],
   "source": [
    "import pandas as pd\n",
    "import numpy as np\n",
    "import matplotlib.pyplot as plt\n",
    "%matplotlib inline\n",
    "\n",
    "import random\n",
    "import time\n",
    "from datetime import datetime\n",
    "from numpy.random import choice\n",
    "from faker import Faker\n",
    "from random import randint"
   ]
  },
  {
   "cell_type": "code",
   "execution_count": 2,
   "metadata": {},
   "outputs": [
    {
     "data": {
      "text/html": [
       "<div>\n",
       "<style scoped>\n",
       "    .dataframe tbody tr th:only-of-type {\n",
       "        vertical-align: middle;\n",
       "    }\n",
       "\n",
       "    .dataframe tbody tr th {\n",
       "        vertical-align: top;\n",
       "    }\n",
       "\n",
       "    .dataframe thead th {\n",
       "        text-align: right;\n",
       "    }\n",
       "</style>\n",
       "<table border=\"1\" class=\"dataframe\">\n",
       "  <thead>\n",
       "    <tr style=\"text-align: right;\">\n",
       "      <th></th>\n",
       "      <th>OrderID</th>\n",
       "      <th>Startdate</th>\n",
       "      <th>Enddate</th>\n",
       "      <th>Priority</th>\n",
       "      <th>Status</th>\n",
       "      <th>ActLaborHrs</th>\n",
       "      <th>Group</th>\n",
       "      <th>SubGroup</th>\n",
       "      <th>Responsedays</th>\n",
       "      <th>Responsehours</th>\n",
       "    </tr>\n",
       "  </thead>\n",
       "  <tbody>\n",
       "  </tbody>\n",
       "</table>\n",
       "</div>"
      ],
      "text/plain": [
       "Empty DataFrame\n",
       "Columns: [OrderID, Startdate, Enddate, Priority, Status, ActLaborHrs, Group, SubGroup, Responsedays, Responsehours]\n",
       "Index: []"
      ]
     },
     "execution_count": 2,
     "metadata": {},
     "output_type": "execute_result"
    }
   ],
   "source": [
    "df = pd.DataFrame(columns=['OrderID','Startdate', 'Enddate',\n",
    "                           'Priority', 'Status', 'ActLaborHrs',\n",
    "                           'Group', 'SubGroup', 'Responsedays', 'Responsehours'])\n",
    "df.head()"
   ]
  },
  {
   "cell_type": "markdown",
   "metadata": {},
   "source": [
    "### Generate Orders by Timestamp"
   ]
  },
  {
   "cell_type": "markdown",
   "metadata": {},
   "source": [
    "#### All generated orders follow business days (Mon-Fri) and hours (8am-6pm)"
   ]
  },
  {
   "cell_type": "code",
   "execution_count": 3,
   "metadata": {},
   "outputs": [],
   "source": [
    "def randomDate(start, end):\n",
    "    '''\n",
    "    input: setup start and end date \n",
    "    output: one random date between the range(start, end) and follows business days/ hours\n",
    "    '''\n",
    "    from datetime import datetime\n",
    "    frmt = '%Y-%m-%d %H:%M:%S'\n",
    "    busday = False \n",
    "    start_time = time.mktime(time.strptime(start, frmt))\n",
    "    end_time = time.mktime(time.strptime(end, frmt))\n",
    "    \n",
    "    while busday == False:\n",
    "        random_time = start_time + random.random() * (end_time - start_time)\n",
    "        dt = datetime.fromtimestamp(time.mktime(time.localtime(random_time)))\n",
    "        busday = businessday(dt)\n",
    "    return dt"
   ]
  },
  {
   "cell_type": "code",
   "execution_count": 4,
   "metadata": {},
   "outputs": [],
   "source": [
    "def businessday(dt):\n",
    "    '''\n",
    "    input: any 'time' data\n",
    "    output: a boolean value shows if the input follow the business days/ hours\n",
    "    '''\n",
    "    if dt.weekday() == 5 or dt.weekday() == 6: #Mon - Fri\n",
    "        return False\n",
    "    else:\n",
    "        if dt.hour <= 8 or dt.hour >= 18: #8am - 6pm\n",
    "            return False\n",
    "        else:\n",
    "            return True"
   ]
  },
  {
   "cell_type": "code",
   "execution_count": 5,
   "metadata": {},
   "outputs": [],
   "source": [
    "def get_start_date(start, end, amount):\n",
    "    '''\n",
    "    This function conclude above two\n",
    "    input: setup start and end date with form(%Y-%m-%d %H:%M:%S) ; how many random date you need\n",
    "    output: a list of random dates between the range(start, end) and follow business days/ hours\n",
    "    '''\n",
    "    start_date_list = []\n",
    "    for i in range(0,amount):\n",
    "        start_date = randomDate(start, end)\n",
    "        start_date_list.append(str(start_date))\n",
    "    return start_date_list"
   ]
  },
  {
   "cell_type": "code",
   "execution_count": 87,
   "metadata": {},
   "outputs": [],
   "source": [
    "def get_end_date(start, duration):\n",
    "    '''\n",
    "    input: one or a list of order start date\n",
    "    output: a list of order end date by random 1 ~ duration\n",
    "    '''\n",
    "    frmt = '%Y-%m-%d %H:%M:%S'\n",
    "    end_date_list = []\n",
    "    diff_day_list = []\n",
    "    diff_hour_list = []\n",
    "    \n",
    "    for i in range(0, len(start)):\n",
    "        busday = False\n",
    "        start_time = time.mktime(time.strptime(start[i], frmt))\n",
    "        while busday == False:\n",
    "            random_diff = random.randrange(1, duration, 6) * 3600 #by hours\n",
    "            new_date = start_time + random_diff\n",
    "            dt = datetime.fromtimestamp(time.mktime(time.localtime(new_date)))\n",
    "            busday = businessday(dt)\n",
    "        end_date_list.append(str(dt))\n",
    "        diff_day_list.append(str(random_diff/86400))\n",
    "        diff_hour_list.append(str(random_diff/3600))\n",
    "        \n",
    "    return end_date_list, diff_day_list, diff_hour_list"
   ]
  },
  {
   "cell_type": "markdown",
   "metadata": {},
   "source": [
    "#### Oder Startdate:"
   ]
  },
  {
   "cell_type": "code",
   "execution_count": 7,
   "metadata": {},
   "outputs": [],
   "source": [
    "random_start = get_start_date('2018-01-01 00:00:00', '2019-12-31 00:00:00', 20000)\n",
    "df['Startdate'] = random_start"
   ]
  },
  {
   "cell_type": "markdown",
   "metadata": {},
   "source": [
    "#### Order EndDate, Responsedays, Responsehours:"
   ]
  },
  {
   "cell_type": "code",
   "execution_count": 88,
   "metadata": {},
   "outputs": [],
   "source": [
    "random_end, random_diffday,random_diffhour  = get_end_date(random_start, 100)"
   ]
  },
  {
   "cell_type": "code",
   "execution_count": 95,
   "metadata": {},
   "outputs": [],
   "source": [
    "df['Enddate'] = random_end\n",
    "df['Responsedays'] = random_diffday\n",
    "df['Responsehours'] = random_diffhour"
   ]
  },
  {
   "cell_type": "code",
   "execution_count": 96,
   "metadata": {
    "scrolled": true
   },
   "outputs": [
    {
     "data": {
      "text/html": [
       "<div>\n",
       "<style scoped>\n",
       "    .dataframe tbody tr th:only-of-type {\n",
       "        vertical-align: middle;\n",
       "    }\n",
       "\n",
       "    .dataframe tbody tr th {\n",
       "        vertical-align: top;\n",
       "    }\n",
       "\n",
       "    .dataframe thead th {\n",
       "        text-align: right;\n",
       "    }\n",
       "</style>\n",
       "<table border=\"1\" class=\"dataframe\">\n",
       "  <thead>\n",
       "    <tr style=\"text-align: right;\">\n",
       "      <th></th>\n",
       "      <th>OrderID</th>\n",
       "      <th>Startdate</th>\n",
       "      <th>Enddate</th>\n",
       "      <th>Priority</th>\n",
       "      <th>Status</th>\n",
       "      <th>ActLaborHrs</th>\n",
       "      <th>Group</th>\n",
       "      <th>SubGroup</th>\n",
       "      <th>Responsedays</th>\n",
       "      <th>Responsehours</th>\n",
       "    </tr>\n",
       "  </thead>\n",
       "  <tbody>\n",
       "    <tr>\n",
       "      <th>0</th>\n",
       "      <td>WO156580</td>\n",
       "      <td>2019-04-05 09:31:17</td>\n",
       "      <td>2019-04-08 10:31:17</td>\n",
       "      <td>2.0</td>\n",
       "      <td>Complete</td>\n",
       "      <td>1.000000</td>\n",
       "      <td>HVAC</td>\n",
       "      <td>NaN</td>\n",
       "      <td>3.0416666666666665</td>\n",
       "      <td>73.0</td>\n",
       "    </tr>\n",
       "    <tr>\n",
       "      <th>1</th>\n",
       "      <td>WO372550</td>\n",
       "      <td>2018-01-05 13:14:41</td>\n",
       "      <td>2018-01-05 14:14:41</td>\n",
       "      <td>11.0</td>\n",
       "      <td>Complete</td>\n",
       "      <td>9.039537</td>\n",
       "      <td>Engineering</td>\n",
       "      <td>NaN</td>\n",
       "      <td>0.041666666666666664</td>\n",
       "      <td>1.0</td>\n",
       "    </tr>\n",
       "    <tr>\n",
       "      <th>2</th>\n",
       "      <td>WO293904</td>\n",
       "      <td>2019-01-31 14:49:44</td>\n",
       "      <td>2019-02-01 09:49:44</td>\n",
       "      <td>2.0</td>\n",
       "      <td>Complete</td>\n",
       "      <td>9.039537</td>\n",
       "      <td>CallCenter</td>\n",
       "      <td>NaN</td>\n",
       "      <td>0.7916666666666666</td>\n",
       "      <td>19.0</td>\n",
       "    </tr>\n",
       "    <tr>\n",
       "      <th>3</th>\n",
       "      <td>WO220975</td>\n",
       "      <td>2019-06-04 16:05:03</td>\n",
       "      <td>2019-06-07 17:05:03</td>\n",
       "      <td>11.0</td>\n",
       "      <td>Complete</td>\n",
       "      <td>1.000000</td>\n",
       "      <td>Plumber</td>\n",
       "      <td>NaN</td>\n",
       "      <td>3.0416666666666665</td>\n",
       "      <td>73.0</td>\n",
       "    </tr>\n",
       "    <tr>\n",
       "      <th>4</th>\n",
       "      <td>WO352047</td>\n",
       "      <td>2019-08-28 15:55:37</td>\n",
       "      <td>2019-08-28 16:55:37</td>\n",
       "      <td>11.0</td>\n",
       "      <td>Complete</td>\n",
       "      <td>0.500000</td>\n",
       "      <td>Engineering</td>\n",
       "      <td>NaN</td>\n",
       "      <td>0.041666666666666664</td>\n",
       "      <td>1.0</td>\n",
       "    </tr>\n",
       "  </tbody>\n",
       "</table>\n",
       "</div>"
      ],
      "text/plain": [
       "    OrderID            Startdate              Enddate  Priority    Status  \\\n",
       "0  WO156580  2019-04-05 09:31:17  2019-04-08 10:31:17       2.0  Complete   \n",
       "1  WO372550  2018-01-05 13:14:41  2018-01-05 14:14:41      11.0  Complete   \n",
       "2  WO293904  2019-01-31 14:49:44  2019-02-01 09:49:44       2.0  Complete   \n",
       "3  WO220975  2019-06-04 16:05:03  2019-06-07 17:05:03      11.0  Complete   \n",
       "4  WO352047  2019-08-28 15:55:37  2019-08-28 16:55:37      11.0  Complete   \n",
       "\n",
       "   ActLaborHrs        Group SubGroup          Responsedays Responsehours  \n",
       "0     1.000000         HVAC      NaN    3.0416666666666665          73.0  \n",
       "1     9.039537  Engineering      NaN  0.041666666666666664           1.0  \n",
       "2     9.039537   CallCenter      NaN    0.7916666666666666          19.0  \n",
       "3     1.000000      Plumber      NaN    3.0416666666666665          73.0  \n",
       "4     0.500000  Engineering      NaN  0.041666666666666664           1.0  "
      ]
     },
     "execution_count": 96,
     "metadata": {},
     "output_type": "execute_result"
    }
   ],
   "source": [
    "df.head(5)"
   ]
  },
  {
   "cell_type": "code",
   "execution_count": 10,
   "metadata": {},
   "outputs": [
    {
     "data": {
      "text/plain": [
       "19995    2019-12-13 12:42:12\n",
       "19996    2018-03-30 16:10:03\n",
       "19997    2019-11-18 10:20:37\n",
       "19998    2019-05-10 17:27:51\n",
       "19999    2019-11-13 16:13:34\n",
       "Name: Startdate, dtype: object"
      ]
     },
     "execution_count": 10,
     "metadata": {},
     "output_type": "execute_result"
    }
   ],
   "source": [
    "df['Startdate'].tail(5)"
   ]
  },
  {
   "cell_type": "markdown",
   "metadata": {},
   "source": [
    "### ActLaborHrs"
   ]
  },
  {
   "cell_type": "code",
   "execution_count": 112,
   "metadata": {},
   "outputs": [],
   "source": [
    "actlabhour = []\n",
    "for i in df['Responsehours']:\n",
    "    actlabhour.append(random.uniform(0, float(i))) # random generate actually labor hours < Responsehours"
   ]
  },
  {
   "cell_type": "code",
   "execution_count": 113,
   "metadata": {},
   "outputs": [],
   "source": [
    "df['ActLaborHrs'] = actlabhour"
   ]
  },
  {
   "cell_type": "code",
   "execution_count": 114,
   "metadata": {
    "scrolled": true
   },
   "outputs": [
    {
     "data": {
      "text/plain": [
       "count    20000.000000\n",
       "mean        21.990993\n",
       "std         23.036440\n",
       "min          0.000019\n",
       "25%          2.382022\n",
       "50%         14.636911\n",
       "75%         34.585183\n",
       "max         96.987639\n",
       "Name: ActLaborHrs, dtype: float64"
      ]
     },
     "execution_count": 114,
     "metadata": {},
     "output_type": "execute_result"
    }
   ],
   "source": [
    "df['ActLaborHrs'].describe()"
   ]
  },
  {
   "cell_type": "code",
   "execution_count": 115,
   "metadata": {
    "scrolled": true
   },
   "outputs": [
    {
     "data": {
      "text/plain": [
       "0    65.612659\n",
       "1     0.708506\n",
       "2    17.363267\n",
       "3    24.791139\n",
       "4     0.217532\n",
       "Name: ActLaborHrs, dtype: float64"
      ]
     },
     "execution_count": 115,
     "metadata": {},
     "output_type": "execute_result"
    }
   ],
   "source": [
    "df['ActLaborHrs'].head(5)"
   ]
  },
  {
   "cell_type": "markdown",
   "metadata": {},
   "source": [
    "### Priority"
   ]
  },
  {
   "cell_type": "code",
   "execution_count": 11,
   "metadata": {
    "scrolled": true
   },
   "outputs": [],
   "source": [
    "df['Priority'] = np.random.choice([1, 2, 11]) #df[0]"
   ]
  },
  {
   "cell_type": "code",
   "execution_count": 12,
   "metadata": {},
   "outputs": [
    {
     "data": {
      "text/plain": [
       "2    20000\n",
       "Name: Priority, dtype: int64"
      ]
     },
     "execution_count": 12,
     "metadata": {},
     "output_type": "execute_result"
    }
   ],
   "source": [
    "df['Priority'].value_counts()"
   ]
  },
  {
   "cell_type": "code",
   "execution_count": 36,
   "metadata": {},
   "outputs": [],
   "source": [
    "dfupdate = df[df['Priority'] == 2 ].sample(2973)"
   ]
  },
  {
   "cell_type": "code",
   "execution_count": 37,
   "metadata": {},
   "outputs": [],
   "source": [
    "dfupdate['Priority'] = 11\n",
    "df.update(dfupdate)"
   ]
  },
  {
   "cell_type": "code",
   "execution_count": 38,
   "metadata": {
    "scrolled": true
   },
   "outputs": [
    {
     "data": {
      "text/plain": [
       "11.0    14865\n",
       "2.0      5135\n",
       "Name: Priority, dtype: int64"
      ]
     },
     "execution_count": 38,
     "metadata": {},
     "output_type": "execute_result"
    }
   ],
   "source": [
    "df['Priority'].value_counts()"
   ]
  },
  {
   "cell_type": "markdown",
   "metadata": {},
   "source": [
    "### OrderID"
   ]
  },
  {
   "cell_type": "code",
   "execution_count": 47,
   "metadata": {},
   "outputs": [],
   "source": [
    "df['OrderID'] = random.sample(range(100000,700000), 20000)"
   ]
  },
  {
   "cell_type": "code",
   "execution_count": 49,
   "metadata": {},
   "outputs": [
    {
     "data": {
      "text/plain": [
       "20000"
      ]
     },
     "execution_count": 49,
     "metadata": {},
     "output_type": "execute_result"
    }
   ],
   "source": [
    "df['OrderID'].count()"
   ]
  },
  {
   "cell_type": "code",
   "execution_count": 50,
   "metadata": {},
   "outputs": [
    {
     "data": {
      "text/plain": [
       "0"
      ]
     },
     "execution_count": 50,
     "metadata": {},
     "output_type": "execute_result"
    }
   ],
   "source": [
    "dfN['OrderID'].duplicated().sum()"
   ]
  },
  {
   "cell_type": "code",
   "execution_count": 51,
   "metadata": {},
   "outputs": [],
   "source": [
    "dfN['OrderID'] = 'WO' + dfN['OrderID'].astype(str)"
   ]
  },
  {
   "cell_type": "code",
   "execution_count": 52,
   "metadata": {},
   "outputs": [
    {
     "data": {
      "text/plain": [
       "0     WO156580\n",
       "1     WO372550\n",
       "2     WO293904\n",
       "3     WO220975\n",
       "4     WO352047\n",
       "5     WO204383\n",
       "6     WO348957\n",
       "7     WO389943\n",
       "8     WO506187\n",
       "9     WO415139\n",
       "10    WO535841\n",
       "11    WO206977\n",
       "12    WO292917\n",
       "13    WO104085\n",
       "14    WO623504\n",
       "15    WO655863\n",
       "16    WO496377\n",
       "17    WO280863\n",
       "18    WO149296\n",
       "19    WO473759\n",
       "Name: OrderID, dtype: object"
      ]
     },
     "execution_count": 52,
     "metadata": {},
     "output_type": "execute_result"
    }
   ],
   "source": [
    "dfN['OrderID'].head(20)"
   ]
  },
  {
   "cell_type": "markdown",
   "metadata": {},
   "source": [
    "### Group&SubGroup"
   ]
  },
  {
   "cell_type": "code",
   "execution_count": 54,
   "metadata": {},
   "outputs": [],
   "source": [
    "def get_employee_names(people):\n",
    "    l = []\n",
    "    for i in range(0, people):\n",
    "        n = fake.name()\n",
    "        l.append(n)\n",
    "    return l"
   ]
  },
  {
   "cell_type": "code",
   "execution_count": 55,
   "metadata": {},
   "outputs": [],
   "source": [
    "group_list = ['EHS', 'Engineering', 'HVAC', 'Electrical',\n",
    "              'Fire safety', 'Plumber', 'Locksmith', 'CallCenter', 'Landscape service',\n",
    "              'Security', 'Cleaning', 'Energy', 'Building Maintenance',\n",
    "              'IT', 'Managment']\n",
    "group_weight = [0.005, 0.15, 0.13, 0.03,\n",
    "                0.09, 0.08, 0.10, 0.08, 0.003,\n",
    "                0.03, 0.09, 0.07, 0.133,\n",
    "                0.005, 0.004]"
   ]
  },
  {
   "cell_type": "code",
   "execution_count": 56,
   "metadata": {},
   "outputs": [
    {
     "data": {
      "text/plain": [
       "1.0"
      ]
     },
     "execution_count": 56,
     "metadata": {},
     "output_type": "execute_result"
    }
   ],
   "source": [
    "sum(group_weight)"
   ]
  },
  {
   "cell_type": "code",
   "execution_count": 57,
   "metadata": {},
   "outputs": [
    {
     "data": {
      "text/plain": [
       "15"
      ]
     },
     "execution_count": 57,
     "metadata": {},
     "output_type": "execute_result"
    }
   ],
   "source": [
    "len(group_list)"
   ]
  },
  {
   "cell_type": "code",
   "execution_count": 58,
   "metadata": {},
   "outputs": [],
   "source": [
    "df['Group'] =  choice(group_list, 20000, p = group_weight)"
   ]
  },
  {
   "cell_type": "code",
   "execution_count": 59,
   "metadata": {},
   "outputs": [
    {
     "data": {
      "text/plain": [
       "Engineering             2989\n",
       "Building Maintenance    2699\n",
       "HVAC                    2624\n",
       "Locksmith               2021\n",
       "Fire safety             1795\n",
       "Cleaning                1715\n",
       "Plumber                 1640\n",
       "CallCenter              1567\n",
       "Energy                  1408\n",
       "Electrical               594\n",
       "Security                 591\n",
       "EHS                      108\n",
       "IT                       103\n",
       "Managment                 86\n",
       "Landscape service         60\n",
       "Name: Group, dtype: int64"
      ]
     },
     "execution_count": 59,
     "metadata": {},
     "output_type": "execute_result"
    }
   ],
   "source": [
    "df['Group'].value_counts()"
   ]
  },
  {
   "cell_type": "code",
   "execution_count": 61,
   "metadata": {},
   "outputs": [
    {
     "data": {
      "text/html": [
       "<div>\n",
       "<style scoped>\n",
       "    .dataframe tbody tr th:only-of-type {\n",
       "        vertical-align: middle;\n",
       "    }\n",
       "\n",
       "    .dataframe tbody tr th {\n",
       "        vertical-align: top;\n",
       "    }\n",
       "\n",
       "    .dataframe thead th {\n",
       "        text-align: right;\n",
       "    }\n",
       "</style>\n",
       "<table border=\"1\" class=\"dataframe\">\n",
       "  <thead>\n",
       "    <tr style=\"text-align: right;\">\n",
       "      <th></th>\n",
       "      <th>OrderID</th>\n",
       "      <th>Startdate</th>\n",
       "      <th>Enddate</th>\n",
       "      <th>Priority</th>\n",
       "      <th>Status</th>\n",
       "      <th>ActLaborHrs</th>\n",
       "      <th>Group</th>\n",
       "      <th>SubGroup</th>\n",
       "      <th>Responsedays</th>\n",
       "      <th>Responsehours</th>\n",
       "    </tr>\n",
       "  </thead>\n",
       "  <tbody>\n",
       "    <tr>\n",
       "      <th>0</th>\n",
       "      <td>WO156580</td>\n",
       "      <td>2019-04-05 09:31:17</td>\n",
       "      <td>2019-04-05 16:31:17</td>\n",
       "      <td>2.0</td>\n",
       "      <td>NaN</td>\n",
       "      <td>1.000000</td>\n",
       "      <td>HVAC</td>\n",
       "      <td>NaN</td>\n",
       "      <td>NaN</td>\n",
       "      <td>NaN</td>\n",
       "    </tr>\n",
       "    <tr>\n",
       "      <th>1</th>\n",
       "      <td>WO372550</td>\n",
       "      <td>2018-01-05 13:14:41</td>\n",
       "      <td>2018-01-09 14:14:41</td>\n",
       "      <td>11.0</td>\n",
       "      <td>NaN</td>\n",
       "      <td>9.039537</td>\n",
       "      <td>Engineering</td>\n",
       "      <td>NaN</td>\n",
       "      <td>NaN</td>\n",
       "      <td>NaN</td>\n",
       "    </tr>\n",
       "    <tr>\n",
       "      <th>2</th>\n",
       "      <td>WO293904</td>\n",
       "      <td>2019-01-31 14:49:44</td>\n",
       "      <td>2019-02-01 09:49:44</td>\n",
       "      <td>2.0</td>\n",
       "      <td>NaN</td>\n",
       "      <td>9.039537</td>\n",
       "      <td>CallCenter</td>\n",
       "      <td>NaN</td>\n",
       "      <td>NaN</td>\n",
       "      <td>NaN</td>\n",
       "    </tr>\n",
       "    <tr>\n",
       "      <th>3</th>\n",
       "      <td>WO220975</td>\n",
       "      <td>2019-06-04 16:05:03</td>\n",
       "      <td>2019-06-07 11:05:03</td>\n",
       "      <td>11.0</td>\n",
       "      <td>NaN</td>\n",
       "      <td>1.000000</td>\n",
       "      <td>Plumber</td>\n",
       "      <td>NaN</td>\n",
       "      <td>NaN</td>\n",
       "      <td>NaN</td>\n",
       "    </tr>\n",
       "    <tr>\n",
       "      <th>4</th>\n",
       "      <td>WO352047</td>\n",
       "      <td>2019-08-28 15:55:37</td>\n",
       "      <td>2019-08-28 16:55:37</td>\n",
       "      <td>11.0</td>\n",
       "      <td>NaN</td>\n",
       "      <td>0.500000</td>\n",
       "      <td>Engineering</td>\n",
       "      <td>NaN</td>\n",
       "      <td>NaN</td>\n",
       "      <td>NaN</td>\n",
       "    </tr>\n",
       "    <tr>\n",
       "      <th>...</th>\n",
       "      <td>...</td>\n",
       "      <td>...</td>\n",
       "      <td>...</td>\n",
       "      <td>...</td>\n",
       "      <td>...</td>\n",
       "      <td>...</td>\n",
       "      <td>...</td>\n",
       "      <td>...</td>\n",
       "      <td>...</td>\n",
       "      <td>...</td>\n",
       "    </tr>\n",
       "    <tr>\n",
       "      <th>19995</th>\n",
       "      <td>WO372402</td>\n",
       "      <td>2019-12-13 12:42:12</td>\n",
       "      <td>2019-12-13 13:42:12</td>\n",
       "      <td>2.0</td>\n",
       "      <td>NaN</td>\n",
       "      <td>1.000000</td>\n",
       "      <td>Building Maintenance</td>\n",
       "      <td>NaN</td>\n",
       "      <td>NaN</td>\n",
       "      <td>NaN</td>\n",
       "    </tr>\n",
       "    <tr>\n",
       "      <th>19996</th>\n",
       "      <td>WO371224</td>\n",
       "      <td>2018-03-30 16:10:03</td>\n",
       "      <td>2018-04-02 17:10:03</td>\n",
       "      <td>2.0</td>\n",
       "      <td>NaN</td>\n",
       "      <td>9.039537</td>\n",
       "      <td>Electrical</td>\n",
       "      <td>NaN</td>\n",
       "      <td>NaN</td>\n",
       "      <td>NaN</td>\n",
       "    </tr>\n",
       "    <tr>\n",
       "      <th>19997</th>\n",
       "      <td>WO436980</td>\n",
       "      <td>2019-11-18 10:20:37</td>\n",
       "      <td>2019-11-21 17:20:37</td>\n",
       "      <td>11.0</td>\n",
       "      <td>NaN</td>\n",
       "      <td>0.500000</td>\n",
       "      <td>HVAC</td>\n",
       "      <td>NaN</td>\n",
       "      <td>NaN</td>\n",
       "      <td>NaN</td>\n",
       "    </tr>\n",
       "    <tr>\n",
       "      <th>19998</th>\n",
       "      <td>WO598803</td>\n",
       "      <td>2019-05-10 17:27:51</td>\n",
       "      <td>2019-05-13 12:27:51</td>\n",
       "      <td>11.0</td>\n",
       "      <td>NaN</td>\n",
       "      <td>0.500000</td>\n",
       "      <td>Building Maintenance</td>\n",
       "      <td>NaN</td>\n",
       "      <td>NaN</td>\n",
       "      <td>NaN</td>\n",
       "    </tr>\n",
       "    <tr>\n",
       "      <th>19999</th>\n",
       "      <td>WO621977</td>\n",
       "      <td>2019-11-13 16:13:34</td>\n",
       "      <td>2019-11-14 17:13:34</td>\n",
       "      <td>11.0</td>\n",
       "      <td>NaN</td>\n",
       "      <td>1.000000</td>\n",
       "      <td>CallCenter</td>\n",
       "      <td>NaN</td>\n",
       "      <td>NaN</td>\n",
       "      <td>NaN</td>\n",
       "    </tr>\n",
       "  </tbody>\n",
       "</table>\n",
       "<p>20000 rows × 10 columns</p>\n",
       "</div>"
      ],
      "text/plain": [
       "        OrderID            Startdate              Enddate  Priority Status  \\\n",
       "0      WO156580  2019-04-05 09:31:17  2019-04-05 16:31:17       2.0    NaN   \n",
       "1      WO372550  2018-01-05 13:14:41  2018-01-09 14:14:41      11.0    NaN   \n",
       "2      WO293904  2019-01-31 14:49:44  2019-02-01 09:49:44       2.0    NaN   \n",
       "3      WO220975  2019-06-04 16:05:03  2019-06-07 11:05:03      11.0    NaN   \n",
       "4      WO352047  2019-08-28 15:55:37  2019-08-28 16:55:37      11.0    NaN   \n",
       "...         ...                  ...                  ...       ...    ...   \n",
       "19995  WO372402  2019-12-13 12:42:12  2019-12-13 13:42:12       2.0    NaN   \n",
       "19996  WO371224  2018-03-30 16:10:03  2018-04-02 17:10:03       2.0    NaN   \n",
       "19997  WO436980  2019-11-18 10:20:37  2019-11-21 17:20:37      11.0    NaN   \n",
       "19998  WO598803  2019-05-10 17:27:51  2019-05-13 12:27:51      11.0    NaN   \n",
       "19999  WO621977  2019-11-13 16:13:34  2019-11-14 17:13:34      11.0    NaN   \n",
       "\n",
       "       ActLaborHrs                 Group SubGroup Responsedays Responsehours  \n",
       "0         1.000000                  HVAC      NaN          NaN           NaN  \n",
       "1         9.039537           Engineering      NaN          NaN           NaN  \n",
       "2         9.039537            CallCenter      NaN          NaN           NaN  \n",
       "3         1.000000               Plumber      NaN          NaN           NaN  \n",
       "4         0.500000           Engineering      NaN          NaN           NaN  \n",
       "...            ...                   ...      ...          ...           ...  \n",
       "19995     1.000000  Building Maintenance      NaN          NaN           NaN  \n",
       "19996     9.039537            Electrical      NaN          NaN           NaN  \n",
       "19997     0.500000                  HVAC      NaN          NaN           NaN  \n",
       "19998     0.500000  Building Maintenance      NaN          NaN           NaN  \n",
       "19999     1.000000            CallCenter      NaN          NaN           NaN  \n",
       "\n",
       "[20000 rows x 10 columns]"
      ]
     },
     "execution_count": 61,
     "metadata": {},
     "output_type": "execute_result"
    }
   ],
   "source": [
    "df"
   ]
  },
  {
   "cell_type": "markdown",
   "metadata": {},
   "source": [
    "### Status"
   ]
  },
  {
   "cell_type": "code",
   "execution_count": 62,
   "metadata": {},
   "outputs": [],
   "source": [
    "status_list = ['Cancel', 'Inprogress', 'Complete', 'Onhold']\n",
    "status_weight = [0.06, 0.15, 0.74, 0.05]"
   ]
  },
  {
   "cell_type": "code",
   "execution_count": 63,
   "metadata": {},
   "outputs": [
    {
     "data": {
      "text/plain": [
       "1.0"
      ]
     },
     "execution_count": 63,
     "metadata": {},
     "output_type": "execute_result"
    }
   ],
   "source": [
    "sum(status_weight)"
   ]
  },
  {
   "cell_type": "code",
   "execution_count": 64,
   "metadata": {},
   "outputs": [],
   "source": [
    "df['Status'] = choice(status_list, 20000, p = status_weight)"
   ]
  },
  {
   "cell_type": "code",
   "execution_count": 65,
   "metadata": {},
   "outputs": [
    {
     "data": {
      "text/plain": [
       "Complete      14800\n",
       "Inprogress     3030\n",
       "Cancel         1185\n",
       "Onhold          985\n",
       "Name: Status, dtype: int64"
      ]
     },
     "execution_count": 65,
     "metadata": {},
     "output_type": "execute_result"
    }
   ],
   "source": [
    "df['Status'].value_counts()"
   ]
  },
  {
   "cell_type": "code",
   "execution_count": 66,
   "metadata": {},
   "outputs": [
    {
     "data": {
      "text/html": [
       "<div>\n",
       "<style scoped>\n",
       "    .dataframe tbody tr th:only-of-type {\n",
       "        vertical-align: middle;\n",
       "    }\n",
       "\n",
       "    .dataframe tbody tr th {\n",
       "        vertical-align: top;\n",
       "    }\n",
       "\n",
       "    .dataframe thead th {\n",
       "        text-align: right;\n",
       "    }\n",
       "</style>\n",
       "<table border=\"1\" class=\"dataframe\">\n",
       "  <thead>\n",
       "    <tr style=\"text-align: right;\">\n",
       "      <th></th>\n",
       "      <th>OrderID</th>\n",
       "      <th>Startdate</th>\n",
       "      <th>Enddate</th>\n",
       "      <th>Priority</th>\n",
       "      <th>Status</th>\n",
       "      <th>ActLaborHrs</th>\n",
       "      <th>Group</th>\n",
       "      <th>SubGroup</th>\n",
       "      <th>Responsedays</th>\n",
       "      <th>Responsehours</th>\n",
       "    </tr>\n",
       "  </thead>\n",
       "  <tbody>\n",
       "    <tr>\n",
       "      <th>0</th>\n",
       "      <td>WO156580</td>\n",
       "      <td>2019-04-05 09:31:17</td>\n",
       "      <td>2019-04-05 16:31:17</td>\n",
       "      <td>2.0</td>\n",
       "      <td>Complete</td>\n",
       "      <td>1.000000</td>\n",
       "      <td>HVAC</td>\n",
       "      <td>NaN</td>\n",
       "      <td>NaN</td>\n",
       "      <td>NaN</td>\n",
       "    </tr>\n",
       "    <tr>\n",
       "      <th>1</th>\n",
       "      <td>WO372550</td>\n",
       "      <td>2018-01-05 13:14:41</td>\n",
       "      <td>2018-01-09 14:14:41</td>\n",
       "      <td>11.0</td>\n",
       "      <td>Complete</td>\n",
       "      <td>9.039537</td>\n",
       "      <td>Engineering</td>\n",
       "      <td>NaN</td>\n",
       "      <td>NaN</td>\n",
       "      <td>NaN</td>\n",
       "    </tr>\n",
       "    <tr>\n",
       "      <th>2</th>\n",
       "      <td>WO293904</td>\n",
       "      <td>2019-01-31 14:49:44</td>\n",
       "      <td>2019-02-01 09:49:44</td>\n",
       "      <td>2.0</td>\n",
       "      <td>Complete</td>\n",
       "      <td>9.039537</td>\n",
       "      <td>CallCenter</td>\n",
       "      <td>NaN</td>\n",
       "      <td>NaN</td>\n",
       "      <td>NaN</td>\n",
       "    </tr>\n",
       "    <tr>\n",
       "      <th>3</th>\n",
       "      <td>WO220975</td>\n",
       "      <td>2019-06-04 16:05:03</td>\n",
       "      <td>2019-06-07 11:05:03</td>\n",
       "      <td>11.0</td>\n",
       "      <td>Complete</td>\n",
       "      <td>1.000000</td>\n",
       "      <td>Plumber</td>\n",
       "      <td>NaN</td>\n",
       "      <td>NaN</td>\n",
       "      <td>NaN</td>\n",
       "    </tr>\n",
       "    <tr>\n",
       "      <th>4</th>\n",
       "      <td>WO352047</td>\n",
       "      <td>2019-08-28 15:55:37</td>\n",
       "      <td>2019-08-28 16:55:37</td>\n",
       "      <td>11.0</td>\n",
       "      <td>Complete</td>\n",
       "      <td>0.500000</td>\n",
       "      <td>Engineering</td>\n",
       "      <td>NaN</td>\n",
       "      <td>NaN</td>\n",
       "      <td>NaN</td>\n",
       "    </tr>\n",
       "    <tr>\n",
       "      <th>5</th>\n",
       "      <td>WO204383</td>\n",
       "      <td>2019-01-10 10:33:59</td>\n",
       "      <td>2019-01-10 11:33:59</td>\n",
       "      <td>11.0</td>\n",
       "      <td>Complete</td>\n",
       "      <td>1.000000</td>\n",
       "      <td>Cleaning</td>\n",
       "      <td>NaN</td>\n",
       "      <td>NaN</td>\n",
       "      <td>NaN</td>\n",
       "    </tr>\n",
       "    <tr>\n",
       "      <th>6</th>\n",
       "      <td>WO348957</td>\n",
       "      <td>2019-10-29 14:30:37</td>\n",
       "      <td>2019-10-30 09:30:37</td>\n",
       "      <td>11.0</td>\n",
       "      <td>Complete</td>\n",
       "      <td>9.039537</td>\n",
       "      <td>Cleaning</td>\n",
       "      <td>NaN</td>\n",
       "      <td>NaN</td>\n",
       "      <td>NaN</td>\n",
       "    </tr>\n",
       "    <tr>\n",
       "      <th>7</th>\n",
       "      <td>WO389943</td>\n",
       "      <td>2019-05-16 17:01:59</td>\n",
       "      <td>2019-05-20 12:01:59</td>\n",
       "      <td>11.0</td>\n",
       "      <td>Complete</td>\n",
       "      <td>0.500000</td>\n",
       "      <td>Building Maintenance</td>\n",
       "      <td>NaN</td>\n",
       "      <td>NaN</td>\n",
       "      <td>NaN</td>\n",
       "    </tr>\n",
       "    <tr>\n",
       "      <th>8</th>\n",
       "      <td>WO506187</td>\n",
       "      <td>2019-03-15 13:55:07</td>\n",
       "      <td>2019-03-18 14:55:07</td>\n",
       "      <td>11.0</td>\n",
       "      <td>Complete</td>\n",
       "      <td>0.500000</td>\n",
       "      <td>Building Maintenance</td>\n",
       "      <td>NaN</td>\n",
       "      <td>NaN</td>\n",
       "      <td>NaN</td>\n",
       "    </tr>\n",
       "    <tr>\n",
       "      <th>9</th>\n",
       "      <td>WO415139</td>\n",
       "      <td>2018-07-02 15:55:03</td>\n",
       "      <td>2018-07-06 10:55:03</td>\n",
       "      <td>2.0</td>\n",
       "      <td>Complete</td>\n",
       "      <td>9.039537</td>\n",
       "      <td>Locksmith</td>\n",
       "      <td>NaN</td>\n",
       "      <td>NaN</td>\n",
       "      <td>NaN</td>\n",
       "    </tr>\n",
       "  </tbody>\n",
       "</table>\n",
       "</div>"
      ],
      "text/plain": [
       "    OrderID            Startdate              Enddate  Priority    Status  \\\n",
       "0  WO156580  2019-04-05 09:31:17  2019-04-05 16:31:17       2.0  Complete   \n",
       "1  WO372550  2018-01-05 13:14:41  2018-01-09 14:14:41      11.0  Complete   \n",
       "2  WO293904  2019-01-31 14:49:44  2019-02-01 09:49:44       2.0  Complete   \n",
       "3  WO220975  2019-06-04 16:05:03  2019-06-07 11:05:03      11.0  Complete   \n",
       "4  WO352047  2019-08-28 15:55:37  2019-08-28 16:55:37      11.0  Complete   \n",
       "5  WO204383  2019-01-10 10:33:59  2019-01-10 11:33:59      11.0  Complete   \n",
       "6  WO348957  2019-10-29 14:30:37  2019-10-30 09:30:37      11.0  Complete   \n",
       "7  WO389943  2019-05-16 17:01:59  2019-05-20 12:01:59      11.0  Complete   \n",
       "8  WO506187  2019-03-15 13:55:07  2019-03-18 14:55:07      11.0  Complete   \n",
       "9  WO415139  2018-07-02 15:55:03  2018-07-06 10:55:03       2.0  Complete   \n",
       "\n",
       "   ActLaborHrs                 Group SubGroup Responsedays Responsehours  \n",
       "0     1.000000                  HVAC      NaN          NaN           NaN  \n",
       "1     9.039537           Engineering      NaN          NaN           NaN  \n",
       "2     9.039537            CallCenter      NaN          NaN           NaN  \n",
       "3     1.000000               Plumber      NaN          NaN           NaN  \n",
       "4     0.500000           Engineering      NaN          NaN           NaN  \n",
       "5     1.000000              Cleaning      NaN          NaN           NaN  \n",
       "6     9.039537              Cleaning      NaN          NaN           NaN  \n",
       "7     0.500000  Building Maintenance      NaN          NaN           NaN  \n",
       "8     0.500000  Building Maintenance      NaN          NaN           NaN  \n",
       "9     9.039537             Locksmith      NaN          NaN           NaN  "
      ]
     },
     "execution_count": 66,
     "metadata": {},
     "output_type": "execute_result"
    }
   ],
   "source": [
    "df.head(10)"
   ]
  },
  {
   "cell_type": "code",
   "execution_count": null,
   "metadata": {},
   "outputs": [],
   "source": [
    "#df.to_csv('fake_data1.csv')"
   ]
  },
  {
   "cell_type": "code",
   "execution_count": null,
   "metadata": {},
   "outputs": [],
   "source": []
  },
  {
   "cell_type": "code",
   "execution_count": null,
   "metadata": {},
   "outputs": [],
   "source": []
  }
 ],
 "metadata": {
  "kernelspec": {
   "display_name": "Python 3",
   "language": "python",
   "name": "python3"
  },
  "language_info": {
   "codemirror_mode": {
    "name": "ipython",
    "version": 3
   },
   "file_extension": ".py",
   "mimetype": "text/x-python",
   "name": "python",
   "nbconvert_exporter": "python",
   "pygments_lexer": "ipython3",
   "version": "3.7.3"
  }
 },
 "nbformat": 4,
 "nbformat_minor": 2
}
